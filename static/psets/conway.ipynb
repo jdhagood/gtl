{
 "cells": [
  {
   "cell_type": "markdown",
   "id": "4010cad5",
   "metadata": {},
   "source": [
    "Before you turn this problem in, make sure everything runs as expected. First, **restart the kernel** (in the menubar, select Kernel $\\rightarrow$ Restart) and then **run all cells** (in the menubar, select Cell $\\rightarrow$ Run All).\n",
    "\n",
    "Make sure you fill in any place that says `YOUR CODE HERE` or \"YOUR ANSWER HERE\", as well as your name and collaborators below:"
   ]
  },
  {
   "cell_type": "code",
   "execution_count": null,
   "id": "6a5ba0f5",
   "metadata": {},
   "outputs": [],
   "source": [
    "NAME = \"\"\n",
    "COLLABORATORS = \"\""
   ]
  },
  {
   "cell_type": "markdown",
   "id": "395268fd",
   "metadata": {},
   "source": [
    "---"
   ]
  },
  {
   "cell_type": "markdown",
   "id": "db18a52e-32a7-4fa0-9378-8261774761e6",
   "metadata": {
    "deletable": false,
    "editable": false,
    "nbgrader": {
     "cell_type": "markdown",
     "checksum": "cdb6fa9757c0a7649fa315d2855d57ff",
     "grade": false,
     "grade_id": "cell-c1a007cd70c18798",
     "locked": true,
     "schema_version": 3,
     "solution": false,
     "task": false
    }
   },
   "source": [
    "# Rule Generating\n",
    "Recall from the reading that in an elementary cellular atomata we needed to make a rules list that represented the binary expansion of a number between 0 and 255. For example\n",
    "```python\n",
    "# Define the rule set as a list of binary values (e.g., Rule 220)\n",
    "rule = [1, 1, 0, 1, 1, 1, 0, 0]\n",
    "```\n",
    "It is tedious to have to type this out for each rule that I want to test. Let's automate this process with a function that takes in the rule number and returns the rule list associated with it. For example\n",
    "```python\n",
    ">>> generate_rule_list(220)\n",
    "[1, 1, 0, 1, 1, 1, 0, 0]\n",
    "```\n",
    "It may be helpful to use python's `bin` function that takes in an integer and spits out a string representing the number in binary.\n",
    "```python\n",
    ">>> bin(255)\n",
    "'0b11111111'\n",
    ">>> bin(0)\n",
    "'0b0'\n",
    ">>> bin(220)\n",
    "'0b11011100'\n",
    "```"
   ]
  },
  {
   "cell_type": "code",
   "execution_count": null,
   "id": "8f609cbd-2547-484d-bb49-6c4bdd1b0d14",
   "metadata": {
    "deletable": false,
    "nbgrader": {
     "cell_type": "code",
     "checksum": "9190847667d53b47f5f9758719aa2837",
     "grade": false,
     "grade_id": "cell-ab327af703613ccf",
     "locked": false,
     "schema_version": 3,
     "solution": true,
     "task": false
    }
   },
   "outputs": [],
   "source": [
    "def generate_rule_list(rule_number):\n",
    "    \"\"\"\n",
    "    Generate a list of binary values representing the rule set for a given \n",
    "    elementary cellular automaton rule number.\n",
    "\n",
    "    The rule number must be an integer between 0 and 255, inclusive. The output \n",
    "    is a list of 8 binary values corresponding to the binary representation of \n",
    "    the rule number, with the most significant bit (MSB) first.\n",
    "\n",
    "    Args:\n",
    "        rule_number (int): The rule number to convert, an integer between 0 and 255.\n",
    "\n",
    "    Returns:\n",
    "        list[int]: A list of 8 binary values (0s and 1s) representing the rule set.\n",
    "\n",
    "    Examples:\n",
    "        >>> generate_rule_list(220)\n",
    "        [1, 1, 0, 1, 1, 1, 0, 0]\n",
    "        >>> generate_rule_list(0)\n",
    "        [0, 0, 0, 0, 0, 0, 0, 0]\n",
    "        >>> generate_rule_list(255)\n",
    "        [1, 1, 1, 1, 1, 1, 1, 1]\n",
    "    \"\"\"\n",
    "    # YOUR CODE HERE\n",
    "    raise NotImplementedError()\n"
   ]
  },
  {
   "cell_type": "code",
   "execution_count": null,
   "id": "63613e07-7ade-47b4-abf4-8412c2da8c02",
   "metadata": {
    "deletable": false,
    "editable": false,
    "nbgrader": {
     "cell_type": "code",
     "checksum": "ee83b8eb21d389ce70b3eec33fc15033",
     "grade": true,
     "grade_id": "cell-4cc6bd9a04bc080e",
     "locked": true,
     "points": 5,
     "schema_version": 3,
     "solution": false,
     "task": false
    }
   },
   "outputs": [],
   "source": [
    "assert generate_rule_list(0) == [0, 0, 0, 0, 0, 0, 0, 0]\n",
    "assert generate_rule_list(220) == [1, 1, 0, 1, 1, 1, 0, 0]\n",
    "assert generate_rule_list(255) == [1, 1, 1, 1, 1, 1, 1, 1]"
   ]
  },
  {
   "cell_type": "markdown",
   "id": "df0dcfa6-9dbc-4124-8943-7199e6292d2f",
   "metadata": {
    "deletable": false,
    "editable": false,
    "nbgrader": {
     "cell_type": "markdown",
     "checksum": "0d3560617d35700a62caf01c49a79c28",
     "grade": false,
     "grade_id": "cell-e16954f29f1dec14",
     "locked": true,
     "schema_version": 3,
     "solution": false,
     "task": false
    }
   },
   "source": [
    "# Dead or Alive?\n",
    "Now let's take a look at Conway's game of life that we discussed in lecture. Recall that this is a cellular automata played on a 2D grid of boxes. The state of a cell in the next generation is given by 4 rules dealing with the number of neighbors around a cell.\n",
    "\n",
    "\n",
    "* Rule 1: Any alive cell surrounded by 1 or fewer alive cells dies by isolation\n",
    "* Rule 2: Any alive cell surrounded by 2 or 3 alive cells survives to the next generation\n",
    "* Rule 3: Any alive cell surrounded by 4 or more alive cells dies by overcrowding\n",
    "* Rule 4: Any dead cell surrounded by exactly 3 alive cells becomes alive next generation through reproduction \n",
    "\n",
    "\n",
    "Lets implement a function called new_cell_state that takes in the current state of a cell, 1 for alive and 0 for dead, and the number of neighbors around the cell and returns the new state of the cell in the next generation."
   ]
  },
  {
   "cell_type": "code",
   "execution_count": null,
   "id": "86ad7276-721d-4b28-8dce-dfc0c5d7f32e",
   "metadata": {
    "deletable": false,
    "nbgrader": {
     "cell_type": "code",
     "checksum": "95839be3d81eaafe98b51de8589bed63",
     "grade": false,
     "grade_id": "cell-7eeeaaa63c4899ed",
     "locked": false,
     "schema_version": 3,
     "solution": true,
     "task": false
    }
   },
   "outputs": [],
   "source": [
    "def new_cell_state(current_state, neighbor_count):\n",
    "    \"\"\"\n",
    "    Determine the next state of a cell in Conway's Game of Life based on its \n",
    "    current state and the number of alive neighbors.\n",
    "\n",
    "    The function follows the rules of Conway's Game of Life:\n",
    "    - Rule 1: Any alive cell (1) with 1 or fewer neighbors dies by isolation.\n",
    "    - Rule 2: Any alive cell (1) with 2 or 3 neighbors survives.\n",
    "    - Rule 3: Any alive cell (1) with 4 or more neighbors dies by overcrowding.\n",
    "    - Rule 4: Any dead cell (0) with exactly 3 neighbors becomes alive.\n",
    "\n",
    "    Args:\n",
    "        current_state (int): The current state of the cell, 1 for alive and 0 for dead.\n",
    "        neighbor_count (int): The number of alive neighbors around the cell.\n",
    "\n",
    "    Returns:\n",
    "        int: The new state of the cell in the next generation, 1 for alive and 0 for dead.\n",
    "\n",
    "    Examples:\n",
    "        >>> new_cell_state(1, 1)\n",
    "        0\n",
    "        >>> new_cell_state(1, 3)\n",
    "        1\n",
    "        >>> new_cell_state(0, 3)\n",
    "        1\n",
    "        >>> new_cell_state(0, 2)\n",
    "        0\n",
    "    \"\"\"\n",
    "    # YOUR CODE HERE\n",
    "    raise NotImplementedError()\n"
   ]
  },
  {
   "cell_type": "code",
   "execution_count": null,
   "id": "cdb6fa14-1b84-4b04-be6c-4fa5d2323c07",
   "metadata": {
    "deletable": false,
    "editable": false,
    "nbgrader": {
     "cell_type": "code",
     "checksum": "4b9f1d5ad82cfbb09dd09f0dc5b1b697",
     "grade": true,
     "grade_id": "cell-a4a4c666506c3ca0",
     "locked": true,
     "points": 5,
     "schema_version": 3,
     "solution": false,
     "task": false
    }
   },
   "outputs": [],
   "source": [
    "assert new_cell_state(1, 1) == 0\n",
    "assert new_cell_state(1, 3) == 1\n",
    "assert new_cell_state(0, 3) == 1\n",
    "assert new_cell_state(0, 2) == 0"
   ]
  },
  {
   "cell_type": "markdown",
   "id": "1e711905-ab34-4ead-9c1a-855b448180be",
   "metadata": {
    "deletable": false,
    "editable": false,
    "nbgrader": {
     "cell_type": "markdown",
     "checksum": "fa121e65d21d1313db2dddfc8819212a",
     "grade": false,
     "grade_id": "cell-251a55ff108bacc2",
     "locked": true,
     "schema_version": 3,
     "solution": false,
     "task": false
    }
   },
   "source": [
    "# Hello, neighbor!\n",
    "Now let's calculate the number of neighbors around a given cell in Conway's Game of Life. The game state will be represented as a 2D grid (a list of lists), where each cell is either 1 (alive) or 0 (dead). For example, valid game states might look like:\n",
    "\n",
    "```python\n",
    "[[0, 0, 1, 0],\n",
    " [1, 1, 0, 0],\n",
    " [0, 0, 0, 0],\n",
    " [0, 1, 1, 0]]\n",
    "```\n",
    "or\n",
    "\n",
    "```python\n",
    "[[0, 0, 1, 0, 1, 0],\n",
    " [1, 1, 0, 0, 0, 0],\n",
    " [0, 0, 0, 0, 1, 1],\n",
    " [0, 1, 1, 0, 1, 1]]\n",
    "```\n",
    "\n",
    "Write a function called get_neighbors that takes in two parameters:\n",
    "\n",
    "1. game_state (list of lists of integers): The current state of the game grid.\n",
    "2. coordinate (tuple of two integers): The (row, column) coordinate of a cell in the grid.\n",
    "\n",
    "The function should return the number of alive neighbors (1s) around the given coordinate. Neighbors are the 8 cells directly adjacent (horizontally, vertically, and diagonally).\n",
    "\n",
    "Special rules for edge cases:\n",
    "\n",
    "If the coordinate is on the edge or corner of the grid, count only the neighbors that are within the bounds of the grid.\n",
    "Treat all cells outside the grid as 0 (dead).\n",
    "Example Usage:\n",
    "\n",
    "```python\n",
    ">>> game_state = [[0, 0, 1, 0],\n",
    "                  [1, 1, 0, 0],\n",
    "                  [0, 0, 0, 0],\n",
    "                  [0, 1, 1, 0]]\n",
    "\n",
    ">>> get_neighbors(game_state, (1, 1))  # Cell at row 1, column 1\n",
    "3\n",
    "\n",
    ">>> get_neighbors(game_state, (0, 2))  # Cell at row 0, column 2\n",
    "1\n",
    "\n",
    ">>> get_neighbors(game_state, (3, 3))  # Cell at row 3, column 3\n",
    "2\n",
    "Implement the get_neighbors function to calculate the correct number of neighbors for any valid coordinate.\n",
    "```\n"
   ]
  },
  {
   "cell_type": "code",
   "execution_count": null,
   "id": "5a0e46eb-9e29-40a4-a1d7-870b8ccdd1f9",
   "metadata": {
    "deletable": false,
    "nbgrader": {
     "cell_type": "code",
     "checksum": "e357cd74164147067ac1f75bcb79c3a3",
     "grade": false,
     "grade_id": "cell-bdf27036f8e0c011",
     "locked": false,
     "schema_version": 3,
     "solution": true,
     "task": false
    }
   },
   "outputs": [],
   "source": [
    "def get_neighbors(game_state, coordinate):\n",
    "    \"\"\"\n",
    "    Calculate the number of alive neighbors for a given cell in a game state grid.\n",
    "\n",
    "    Args:\n",
    "        game_state (list[list[int]]): The current game state represented as a 2D list of 0s (dead) and 1s (alive).\n",
    "        coordinate (tuple[int, int]): A tuple representing the (row, column) of the cell.\n",
    "\n",
    "    Returns:\n",
    "        int: The number of alive neighbors (1s) around the given cell.\n",
    "\n",
    "    Example:\n",
    "        >>> game_state = [[0, 0, 1, 0],\n",
    "                          [1, 1, 0, 0],\n",
    "                          [0, 0, 0, 0],\n",
    "                          [0, 1, 1, 0]]\n",
    "        >>> get_neighbors(game_state, (1, 1))\n",
    "        3\n",
    "    \"\"\"\n",
    "    # YOUR CODE HERE\n",
    "    raise NotImplementedError()"
   ]
  },
  {
   "cell_type": "code",
   "execution_count": null,
   "id": "55b5a2b6-1b14-4ab5-9c09-89d56567551a",
   "metadata": {
    "deletable": false,
    "editable": false,
    "nbgrader": {
     "cell_type": "code",
     "checksum": "d190e48f9d2e6c00423f48aa780044a1",
     "grade": true,
     "grade_id": "cell-beeff244cbd25c5f",
     "locked": true,
     "points": 5,
     "schema_version": 3,
     "solution": false,
     "task": false
    }
   },
   "outputs": [],
   "source": [
    "game_state = [\n",
    "    [0, 0, 1, 0],\n",
    "    [1, 1, 0, 0],\n",
    "    [0, 0, 0, 0],\n",
    "    [0, 1, 1, 0]\n",
    "]\n",
    "assert get_neighbors(game_state, (1, 1)) == 2\n",
    "\n",
    "assert get_neighbors(game_state, (0, 2)) == 1\n",
    "\n",
    "assert get_neighbors(game_state, (3, 3)) == 1\n",
    "\n",
    "assert get_neighbors(game_state, (2, 2)) == 3\n",
    "\n",
    "game_state = [\n",
    "    [0, 0, 1, 0, 1, 0],\n",
    "    [1, 1, 0, 0, 0, 0],\n",
    "    [0, 0, 0, 0, 1, 1],\n",
    "    [0, 1, 1, 0, 1, 1]\n",
    "]\n",
    "assert get_neighbors(game_state, (0, 4)) == 0\n",
    "\n",
    "assert get_neighbors(game_state, (0, 0)) == 2\n",
    "\n",
    "game_state = [\n",
    "    [1, 1, 1],\n",
    "    [1, 1, 1],\n",
    "    [1, 1, 1]\n",
    "]\n",
    "assert get_neighbors(game_state, (1, 1)) == 8\n",
    "\n",
    "game_state = [\n",
    "    [0, 0, 0],\n",
    "    [0, 0, 0],\n",
    "    [0, 0, 0]\n",
    "]\n",
    "assert get_neighbors(game_state, (1, 1)) == 0\n"
   ]
  },
  {
   "cell_type": "markdown",
   "id": "9e1870ca-bd72-4688-80f1-b7ce6178fc3e",
   "metadata": {
    "deletable": false,
    "editable": false,
    "nbgrader": {
     "cell_type": "markdown",
     "checksum": "048dce57186eab9e567f882871c254de",
     "grade": false,
     "grade_id": "cell-136570ea93399203",
     "locked": true,
     "schema_version": 3,
     "solution": false,
     "task": false
    }
   },
   "source": [
    "# Putting everything together\n",
    "Now we are ready to tie everything together. Let's make a function called get_next_generation. This function will take in a game state and output the next generation of cells\n",
    "\n",
    "Now we are ready to tie everything together! Let's create a function called get_next_generation.\n",
    "\n",
    "This function should take in the current game state (a 2D list of integers representing the grid, where 1 means a cell is alive and 0 means it is dead) and output the next generation of cells based on the rules of Conway's Game of Life. You may find it helpful to use your previously implemented functions new_cell_state and get_neighbors."
   ]
  },
  {
   "cell_type": "code",
   "execution_count": null,
   "id": "ab3d6ace-3b67-4ac7-a9d1-ecf1d2834bf3",
   "metadata": {
    "deletable": false,
    "nbgrader": {
     "cell_type": "code",
     "checksum": "d8d4fdf5ad31814a08f012041ad82df0",
     "grade": false,
     "grade_id": "cell-ae4584eee9a63486",
     "locked": false,
     "schema_version": 3,
     "solution": true,
     "task": false
    }
   },
   "outputs": [],
   "source": [
    "def get_next_generation(game_state):\n",
    "    \"\"\"\n",
    "    Computes the next generation of a given game state based on the rules of Conway's Game of Life.\n",
    "\n",
    "    Parameters:\n",
    "        game_state (list of list of int): A 2D list representing the current game state, where\n",
    "            each cell is either 1 (alive) or 0 (dead).\n",
    "\n",
    "    Returns:\n",
    "        list of list of int: A 2D list representing the next generation of the game state, where\n",
    "            each cell is updated according to the rules of Conway's Game of Life.\n",
    "    \"\"\"\n",
    "    # YOUR CODE HERE\n",
    "    raise NotImplementedError()"
   ]
  },
  {
   "cell_type": "code",
   "execution_count": null,
   "id": "f5aedf72-ab7b-4f35-a6f4-bad3151b92a6",
   "metadata": {
    "deletable": false,
    "editable": false,
    "nbgrader": {
     "cell_type": "code",
     "checksum": "41203b1cc6fa8aee969683d66c68aa64",
     "grade": true,
     "grade_id": "cell-fe5094a19bda7417",
     "locked": true,
     "points": 10,
     "schema_version": 3,
     "solution": false,
     "task": false
    }
   },
   "outputs": [],
   "source": [
    "game_state = [[0, 0],\n",
    "              [0, 0]]\n",
    "\n",
    "new_game_state = get_next_generation(game_state)\n",
    "assert new_game_state == [[0, 0],\n",
    "                          [0, 0]]\n",
    "\n",
    "game_state = [[1, 1],\n",
    "              [1, 1]]\n",
    "\n",
    "new_game_state = get_next_generation(game_state)\n",
    "assert new_game_state == [[1, 1],\n",
    "                          [1, 1]]\n",
    "\n",
    "game_state = [[1, 0],\n",
    "              [0, 0]]\n",
    "\n",
    "new_game_state = get_next_generation(game_state)\n",
    "assert new_game_state == [[0, 0],\n",
    "                          [0, 0]]\n",
    "\n",
    "game_state = [[0, 0, 0, 0, 0, 0], \n",
    "              [0, 0, 0, 0, 0, 0],\n",
    "              [0, 0, 0, 0, 0, 0],\n",
    "              [0, 0, 1, 1, 1, 0],\n",
    "              [0, 0, 0, 0, 0, 0],\n",
    "              [0, 0, 0, 0, 0, 0]]\n",
    "\n",
    "new_game_state = get_next_generation(game_state)\n",
    "assert new_game_state == [[0, 0, 0, 0, 0, 0], \n",
    "                          [0, 0, 0, 0, 0, 0],\n",
    "                          [0, 0, 0, 1, 0, 0],\n",
    "                          [0, 0, 0, 1, 0, 0],\n",
    "                          [0, 0, 0, 1, 0, 0],\n",
    "                          [0, 0, 0, 0, 0, 0]]\n",
    "\n",
    "game_state = [[0, 0, 0, 0, 0, 1], \n",
    "              [0, 0, 1, 0, 1, 0],\n",
    "              [0, 1, 0, 0, 0, 0],\n",
    "              [0, 0, 1, 1, 1, 0],\n",
    "              [0, 0, 1, 0, 0, 0],\n",
    "              [0, 1, 0, 0, 1, 0]]\n",
    "\n",
    "new_game_state = get_next_generation(game_state)\n",
    "assert new_game_state == [[0, 0, 0, 0, 0, 0],\n",
    "                          [0, 0, 0, 0, 0, 0],\n",
    "                          [0, 1, 0, 0, 1, 0],\n",
    "                          [0, 1, 1, 1, 0, 0],\n",
    "                          [0, 1, 1, 0, 1, 0],\n",
    "                          [0, 0, 0, 0, 0, 0]]"
   ]
  },
  {
   "cell_type": "markdown",
   "id": "659c614d-e589-420a-89e9-608769e7cbdf",
   "metadata": {
    "deletable": false,
    "editable": false,
    "nbgrader": {
     "cell_type": "markdown",
     "checksum": "ec2a5c7b0b861763eb46438cbe89692e",
     "grade": false,
     "grade_id": "cell-196099c1b2e1eb07",
     "locked": true,
     "schema_version": 3,
     "solution": false,
     "task": false
    }
   },
   "source": [
    "# You made it!\n",
    "Congratulations on making it to the end! Feel free to play around with the code from here in your favorite IDE! See what happens if you change the rules. Can you come up with a game where the cells can be partially dead and partially alive (cell state is between 0 and 1)? What about making a probabilistic set of rules? Go nuts."
   ]
  }
 ],
 "metadata": {
  "kernelspec": {
   "display_name": "Python 3 (ipykernel)",
   "language": "python",
   "name": "python3"
  },
  "language_info": {
   "codemirror_mode": {
    "name": "ipython",
    "version": 3
   },
   "file_extension": ".py",
   "mimetype": "text/x-python",
   "name": "python",
   "nbconvert_exporter": "python",
   "pygments_lexer": "ipython3",
   "version": "3.12.3"
  }
 },
 "nbformat": 4,
 "nbformat_minor": 5
}
