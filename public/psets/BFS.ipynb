{
 "cells": [
  {
   "cell_type": "markdown",
   "id": "7e2358c2-2f20-4be4-930a-b43b8a0e6a65",
   "metadata": {
    "deletable": false,
    "editable": false,
    "nbgrader": {
     "cell_type": "markdown",
     "checksum": "2937ae2d74e9b87c9297fa847dcdb802",
     "grade": false,
     "grade_id": "cell-353c7404a50a0af2",
     "locked": true,
     "schema_version": 3,
     "solution": false,
     "task": false
    }
   },
   "source": [
    "# All roads lead to...\n",
    "We are given the (at least somewhat accurate) road_map of Italy as a dictionary. The keys are strings representing the names of Italian cities, and the values are sets of cities directly connected to each key city by road\n",
    "```python\n",
    "italy_road_map = {\n",
    "    \"Rome\": {\"Florence\", \"Naples\", \"Pescara\", \"Perugia\"},\n",
    "    \"Florence\": {\"Rome\", \"Bologna\", \"Pisa\"},\n",
    "    \"Naples\": {\"Rome\", \"Salerno\", \"Bari\"},\n",
    "    \"Bologna\": {\"Florence\", \"Milan\", \"Venice\"},\n",
    "    \"Milan\": {\"Bologna\", \"Turin\", \"Genoa\", \"Verona\"},\n",
    "    \"Venice\": {\"Bologna\", \"Verona\", \"Trieste\"},\n",
    "    \"Turin\": {\"Milan\", \"Genoa\"},\n",
    "    \"Genoa\": {\"Milan\", \"Turin\", \"Pisa\"},\n",
    "    \"Pisa\": {\"Florence\", \"Genoa\"},\n",
    "    \"Verona\": {\"Milan\", \"Venice\", \"Trento\"},\n",
    "    \"Trieste\": {\"Venice\"},\n",
    "    \"Salerno\": {\"Naples\", \"Reggio Calabria\"},\n",
    "    \"Bari\": {\"Naples\", \"Brindisi\", \"Taranto\"},\n",
    "    \"Perugia\": {\"Rome\", \"Ancona\"},\n",
    "    \"Ancona\": {\"Perugia\", \"Pescara\"},\n",
    "    \"Pescara\": {\"Rome\", \"Ancona\"},\n",
    "    \"Trento\": {\"Verona\", \"Bolzano\"},\n",
    "    \"Bolzano\": {\"Trento\"},\n",
    "    \"Reggio Calabria\": {\"Salerno\"},\n",
    "    \"Brindisi\": {\"Bari\"},\n",
    "    \"Taranto\": {\"Bari\"}\n",
    "}\n",
    "```\n",
    "Lets use our new DFS skills to make a simple navigation program. Given a starting city and ending city, I want to know the least number of cities I have to go through to get from the starting city to the ending city. If the path does not exist please return -1.\n",
    "\n",
    "\n",
    "We will call this function `shortest_path`. For example\n",
    "```\n",
    ">>> shortest_path(\"Rome\", \"Florene\", italy_road_map)\n",
    "2\n",
    "```\n",
    "Because the path you take is `[\"Rome\", \"Florence\"]`\n",
    "```\n",
    ">>> shortest_path(italy_road_map, \"Rome\", \"Venice\")\n",
    "4\n",
    "```\n",
    "Because one path you can take is `['Rome', 'Florence', 'Bologna', 'Venice']`\n",
    "```\n",
    ">>> shortest_path(italy_road_map, \"Rome\", \"Trieste\")\n",
    "5\n",
    "```\n",
    "Because one path you can take is `['Rome', 'Florence', 'Bologna', 'Venice', 'Trieste']`"
   ]
  },
  {
   "cell_type": "code",
   "execution_count": null,
   "id": "d709d0c5-c354-45f4-a0b9-d864f15d7dfc",
   "metadata": {
    "deletable": false,
    "nbgrader": {
     "cell_type": "code",
     "checksum": "7a29d961b8daafbfdf0b9f0eb17fa939",
     "grade": false,
     "grade_id": "cell-5dad7f0cf741297d",
     "locked": false,
     "schema_version": 3,
     "solution": true,
     "task": false
    }
   },
   "outputs": [],
   "source": [
    "def shortest_path(italy_road_map, start_city, end_city):\n",
    "    \"\"\"\n",
    "    Find the shortest path between two cities in the Italy road map.\n",
    "\n",
    "    Parameters:\n",
    "        italy_road_map (dict): A dictionary representing road connections between cities.\n",
    "        start_city (str): The city where the journey starts.\n",
    "        end_city (str): The destination city.\n",
    "\n",
    "    Returns:\n",
    "        int: The least number of cities to go through to reach the destination,\n",
    "             or -1 if no path exists.\n",
    "    \"\"\"\n",
    "    # YOUR CODE HERE\n",
    "    raise NotImplementedError()"
   ]
  },
  {
   "cell_type": "code",
   "execution_count": null,
   "id": "43c38be0-f9e1-4158-8429-5de0670abbd0",
   "metadata": {
    "deletable": false,
    "editable": false,
    "nbgrader": {
     "cell_type": "code",
     "checksum": "25894e356aeabdb93614878d42952e5c",
     "grade": true,
     "grade_id": "cell-6fff85eec718bd9c",
     "locked": true,
     "points": 0,
     "schema_version": 3,
     "solution": false,
     "task": false
    }
   },
   "outputs": [],
   "source": [
    "# Test Cases\n",
    "\n",
    "italy_road_map = {\n",
    "    \"Rome\": {\"Florence\", \"Naples\", \"Pescara\", \"Perugia\"},\n",
    "    \"Florence\": {\"Rome\", \"Bologna\", \"Pisa\"},\n",
    "    \"Naples\": {\"Rome\", \"Salerno\", \"Bari\"},\n",
    "    \"Bologna\": {\"Florence\", \"Milan\", \"Venice\"},\n",
    "    \"Milan\": {\"Bologna\", \"Turin\", \"Genoa\", \"Verona\"},\n",
    "    \"Venice\": {\"Bologna\", \"Verona\", \"Trieste\"},\n",
    "    \"Turin\": {\"Milan\", \"Genoa\"},\n",
    "    \"Genoa\": {\"Milan\", \"Turin\", \"Pisa\"},\n",
    "    \"Pisa\": {\"Florence\", \"Genoa\"},\n",
    "    \"Verona\": {\"Milan\", \"Venice\", \"Trento\"},\n",
    "    \"Trieste\": {\"Venice\"},\n",
    "    \"Salerno\": {\"Naples\", \"Reggio Calabria\"},\n",
    "    \"Bari\": {\"Naples\", \"Brindisi\", \"Taranto\"},\n",
    "    \"Perugia\": {\"Rome\", \"Ancona\"},\n",
    "    \"Ancona\": {\"Perugia\", \"Pescara\"},\n",
    "    \"Pescara\": {\"Rome\", \"Ancona\"},\n",
    "    \"Trento\": {\"Verona\", \"Bolzano\"},\n",
    "    \"Bolzano\": {\"Trento\"},\n",
    "    \"Reggio Calabria\": {\"Salerno\"},\n",
    "    \"Brindisi\": {\"Bari\"},\n",
    "    \"Taranto\": {\"Bari\"}\n",
    "}\n",
    "\n",
    "assert shortest_path(italy_road_map, \"Rome\", \"Venice\") == 4\n",
    "\n",
    "assert shortest_path(italy_road_map, \"Rome\", \"Trieste\") == 5\n",
    "\n",
    "assert shortest_path(italy_road_map, \"Rome\", \"Paris\") == -1\n",
    "\n",
    "assert shortest_path(italy_road_map, \"Milan\", \"Trento\") == 3\n",
    "\n",
    "assert shortest_path(italy_road_map, \"Bari\", \"Reggio Calabria\") == 4"
   ]
  },
  {
   "cell_type": "markdown",
   "id": "f7e6475b-4196-4e97-a199-9b9cc0e78a7c",
   "metadata": {
    "deletable": false,
    "editable": false,
    "nbgrader": {
     "cell_type": "markdown",
     "checksum": "b9afb745d015fc9926efbd1741d4aafc",
     "grade": false,
     "grade_id": "cell-2704b6812acf372e",
     "locked": true,
     "schema_version": 3,
     "solution": false,
     "task": false
    }
   },
   "source": [
    "# A knightly puzzle\n",
    "You have an n x m chess board with a single knight on it. Recall that in chess a knight moves in an L shape (2 squares in one direction and 1 square in the other direction). Implement the function `shortest_knight_moves` that takes in the dimensions of the board as a tuple (for example, the tuple `(6, 8)` corresponds to a board that is 6 squares wide by 8 squares tall), a tuple of the starting position of the knight (for example, `(1, 1)` corresponds to the knight starting in the upper left corner), and a tuple of the ending position of the knight and returns the length of the shortest sequence of valid moves to move the knight from the starting position to the ending position. If no such sequence of moves exists, return a path length of `-1`."
   ]
  },
  {
   "cell_type": "code",
   "execution_count": null,
   "id": "add30546-d965-42bf-ad29-a05f475803c2",
   "metadata": {
    "deletable": false,
    "nbgrader": {
     "cell_type": "code",
     "checksum": "4ef7ded1e73c2e80fe9d9db983b10d70",
     "grade": false,
     "grade_id": "cell-540f9fc2d774f9bf",
     "locked": false,
     "schema_version": 3,
     "solution": true,
     "task": false
    }
   },
   "outputs": [],
   "source": [
    "def shortest_knight_moves(dimensions, start, end):\n",
    "    \"\"\"\n",
    "    Find the shortest sequence of valid moves to move a knight from the start to the end position.\n",
    "    \n",
    "    Parameters:\n",
    "        dimensions (tuple): A tuple (n, m) representing the width and height of the chessboard.\n",
    "        start (tuple): A tuple (x, y) representing the starting position of the knight.\n",
    "        end (tuple): A tuple (x, y) representing the ending position of the knight.\n",
    "        \n",
    "    Returns:\n",
    "        int: The minimum number of moves needed to reach the end position from the start position,\n",
    "             or -1 if no such sequence of moves exists.\n",
    "    \"\"\"\n",
    "    # YOUR CODE HERE\n",
    "    raise NotImplementedError()"
   ]
  },
  {
   "cell_type": "code",
   "execution_count": null,
   "id": "9996e578-a63e-4a70-8acf-30e686a8ad6e",
   "metadata": {
    "deletable": false,
    "editable": false,
    "nbgrader": {
     "cell_type": "code",
     "checksum": "89fe480c4fd6231a797c806c15c50850",
     "grade": true,
     "grade_id": "cell-65b1e5e4d71b33d6",
     "locked": true,
     "points": 0,
     "schema_version": 3,
     "solution": false,
     "task": false
    }
   },
   "outputs": [],
   "source": [
    "# Test Cases\n",
    "\n",
    "assert shortest_knight_moves((10, 10), (1, 1), (1, 2)) == 3\n",
    "# Because [(1, 1), (2, 3), (3, 1), (1, 2)]\n",
    "\n",
    "assert shortest_knight_moves((10, 5), (1, 1), (2, 2)) == 4\n",
    "# Because [(1, 1), (2, 3), (3, 5), (4, 3), (2, 2)]\n",
    "\n",
    "assert shortest_knight_moves((8, 8), (8, 1), (8, 8)) == 5\n",
    "# Because [(8, 1), (7, 3), (8, 5), (6, 4), (7, 6), (8, 8)]\n",
    "\n",
    "assert shortest_knight_moves((8, 8), (1, 1), (1, 2)) == 3\n",
    "# Because [(1, 1), (2, 3), (3, 1), (1, 2)]\n",
    "\n",
    "assert shortest_knight_moves((1, 2), (1, 1), (1, 2)) == -1\n",
    "# Because this is impossible\n",
    "\n",
    "assert shortest_knight_moves((3, 2), (1, 1), (1, 2)) ==  -1\n",
    "# Because this is impossible\n",
    "\n",
    "assert shortest_knight_moves((100, 100), (50, 50), (100, 1)) == 33\n",
    "\n",
    "assert shortest_knight_moves((100, 100), (50, 50), (51, 52)) == 1\n",
    "# Because [(50, 50), (51, 52)]\n",
    "\n",
    "assert shortest_knight_moves((8, 8), (4, 5), (4, 5)) == 0"
   ]
  }
 ],
 "metadata": {
  "kernelspec": {
   "display_name": "Python 3 (ipykernel)",
   "language": "python",
   "name": "python3"
  },
  "language_info": {
   "codemirror_mode": {
    "name": "ipython",
    "version": 3
   },
   "file_extension": ".py",
   "mimetype": "text/x-python",
   "name": "python",
   "nbconvert_exporter": "python",
   "pygments_lexer": "ipython3",
   "version": "3.12.3"
  }
 },
 "nbformat": 4,
 "nbformat_minor": 5
}
