{
 "cells": [
  {
   "cell_type": "markdown",
   "id": "04d6b9f1",
   "metadata": {},
   "source": [
    "Before you turn this problem in, make sure everything runs as expected. First, **restart the kernel** (in the menubar, select Kernel $\\rightarrow$ Restart) and then **run all cells** (in the menubar, select Cell $\\rightarrow$ Run All).\n",
    "\n",
    "Make sure you fill in any place that says `YOUR CODE HERE` or \"YOUR ANSWER HERE\", as well as your name and collaborators below:"
   ]
  },
  {
   "cell_type": "code",
   "execution_count": null,
   "id": "5c087507",
   "metadata": {},
   "outputs": [],
   "source": [
    "NAME = \"\"\n",
    "COLLABORATORS = \"\""
   ]
  },
  {
   "cell_type": "markdown",
   "id": "bcfdb75b",
   "metadata": {},
   "source": [
    "---"
   ]
  },
  {
   "cell_type": "markdown",
   "id": "0738e953-6a40-449c-be02-87dd44c26766",
   "metadata": {
    "deletable": false,
    "editable": false,
    "nbgrader": {
     "cell_type": "markdown",
     "checksum": "affdb3333d6eeb268dbc4a14632007ac",
     "grade": false,
     "grade_id": "cell-b2dd24c606001ce2",
     "locked": true,
     "schema_version": 3,
     "solution": false,
     "task": false
    }
   },
   "source": [
    "# Purpose of this assignment\n",
    "This assignment is meant to help you get confortable with the Jupyter Notebook, practice the topics in lecture 0, and learn about if statements."
   ]
  },
  {
   "cell_type": "markdown",
   "id": "b054d385-33a4-4a2a-8bfb-0f96c0622946",
   "metadata": {
    "deletable": false,
    "editable": false,
    "nbgrader": {
     "cell_type": "markdown",
     "checksum": "45224997a3c80ec4b6351c3f44113ddc",
     "grade": false,
     "grade_id": "cell-0dc5364b0eb29f32",
     "locked": true,
     "schema_version": 3,
     "solution": false,
     "task": false
    }
   },
   "source": [
    "# Variable Assignment\n",
    "Let's start off by recalling how to assign different types to variables. \n",
    "\n",
    "\n",
    "Set the variable `x` to the int 10, `y` to the float 0.5, `z` to the string \"Italy\", `my_list` to a list of `x`, `y`, and `z` in that order, and `my_tuple` to the tuple version of `my_list`."
   ]
  },
  {
   "cell_type": "code",
   "execution_count": null,
   "id": "d209b2e5-3470-42ab-a083-49616bba16bf",
   "metadata": {
    "deletable": false,
    "nbgrader": {
     "cell_type": "code",
     "checksum": "7c205dba950b0a7fd5f8713b7639d9b1",
     "grade": false,
     "grade_id": "cell-a7ac898d18615c45",
     "locked": false,
     "schema_version": 3,
     "solution": true,
     "task": false
    }
   },
   "outputs": [],
   "source": [
    "# Start with \"x = \" and proceed from there.\n",
    "# YOUR CODE HERE\n",
    "raise NotImplementedError()"
   ]
  },
  {
   "cell_type": "code",
   "execution_count": null,
   "id": "df2ca3b4-a9f6-4d73-aeea-6ca1fad796ee",
   "metadata": {
    "deletable": false,
    "editable": false,
    "nbgrader": {
     "cell_type": "code",
     "checksum": "50a85b8913a3f7827be5bfd1ecb4a81b",
     "grade": true,
     "grade_id": "cell-5ecc73f5751d0ae6",
     "locked": true,
     "points": 5,
     "schema_version": 3,
     "solution": false,
     "task": false
    }
   },
   "outputs": [],
   "source": [
    "# Check if `x` is assigned correctly\n",
    "assert 'x' in globals(), \"Variable 'x' is not defined.\"\n",
    "assert isinstance(x, int), f\"Expected 'x' to be an int, but got {type(x).__name__}.\"\n",
    "assert x == 10, f\"Expected 'x' to be 10, but got {x}.\"\n",
    "\n",
    "# Check if `y` is assigned correctly\n",
    "assert 'y' in globals(), \"Variable 'y' is not defined.\"\n",
    "assert isinstance(y, float), f\"Expected 'y' to be a float, but got {type(y).__name__}.\"\n",
    "assert y == 0.5, f\"Expected 'y' to be 0.5, but got {y}.\"\n",
    "\n",
    "# Check if `z` is assigned correctly\n",
    "assert 'z' in globals(), \"Variable 'z' is not defined.\"\n",
    "assert isinstance(z, str), f\"Expected 'z' to be a string, but got {type(z).__name__}.\"\n",
    "assert z == \"Italy\", f\"Expected 'z' to be 'Italy', but got {z}.\"\n",
    "\n",
    "# Check if `my_list` is assigned correctly\n",
    "assert 'my_list' in globals(), \"Variable 'my_list' is not defined.\"\n",
    "assert isinstance(my_list, list), f\"Expected 'my_list' to be a list, but got {type(my_list).__name__}.\"\n",
    "assert my_list == [x, y, z], f\"Expected 'my_list' to be [{x}, {y}, {z}], but got {my_list}.\"\n",
    "\n",
    "# Check if `my_tuple` is assigned correctly\n",
    "assert 'my_tuple' in globals(), \"Variable 'my_list' is not defined.\"\n",
    "assert isinstance(my_tuple, tuple), f\"Expected 'my_list' to be a list, but got {type(my_tuple).__name__}.\"\n",
    "assert my_tuple == (x, y, z), f\"Expected 'my_list' to be [{x}, {y}, {z}], but got {my_tuple}.\""
   ]
  },
  {
   "cell_type": "markdown",
   "id": "70cdc3d9-cede-4885-b357-69f636b2ebc5",
   "metadata": {
    "deletable": false,
    "editable": false,
    "nbgrader": {
     "cell_type": "markdown",
     "checksum": "f780eaac2372de55c96c1f9f062c1595",
     "grade": false,
     "grade_id": "cell-8bd302c32ab097d0",
     "locked": true,
     "schema_version": 3,
     "solution": false,
     "task": false
    }
   },
   "source": [
    "# Copying and Aliasing\n",
    "\n",
    "We talked about the dangers of list aliasing during the lecture. Make the variable `my_alised_list` that is aliased with `my_list` and the variable `my_copied_list` that is a copy of `my_list`."
   ]
  },
  {
   "cell_type": "code",
   "execution_count": null,
   "id": "f165839c-ed61-4745-ae31-dabd419f2a67",
   "metadata": {
    "deletable": false,
    "nbgrader": {
     "cell_type": "code",
     "checksum": "1dc547a5b664a08b245a8e902db39308",
     "grade": false,
     "grade_id": "cell-9d40210a7542242c",
     "locked": false,
     "schema_version": 3,
     "solution": true,
     "task": false
    }
   },
   "outputs": [],
   "source": [
    "# YOUR CODE HERE\n",
    "raise NotImplementedError()"
   ]
  },
  {
   "cell_type": "code",
   "execution_count": null,
   "id": "0573e5e3-c39e-4c19-b093-a097a64408d1",
   "metadata": {
    "deletable": false,
    "nbgrader": {
     "cell_type": "code",
     "checksum": "3b22c7098235b34529c93eaea29bd690",
     "grade": false,
     "grade_id": "cell-3407c1307fcf5e4a",
     "locked": false,
     "schema_version": 3,
     "solution": true,
     "task": false
    }
   },
   "outputs": [],
   "source": [
    "# YOUR CODE HERE\n",
    "raise NotImplementedError()"
   ]
  },
  {
   "cell_type": "markdown",
   "id": "3a2157a0-2797-4e28-b991-775ce3cd2746",
   "metadata": {
    "deletable": false,
    "editable": false,
    "nbgrader": {
     "cell_type": "markdown",
     "checksum": "f5242ccf662c4c6fef577bcc5c8e3f5d",
     "grade": false,
     "grade_id": "cell-e33e5ff9e0138d10",
     "locked": true,
     "schema_version": 3,
     "solution": false,
     "task": false
    }
   },
   "source": [
    "# AweSum function\n",
    "Let's get some practice returning values from a function. Implement the function `add_numbers` that takes in two numbers and outputs their sum."
   ]
  },
  {
   "cell_type": "code",
   "execution_count": null,
   "id": "1fb970b2-40c7-413c-90b3-f42742ee1ae2",
   "metadata": {
    "deletable": false,
    "nbgrader": {
     "cell_type": "code",
     "checksum": "ffb4e5c630a5f366345bc4b3c21378f0",
     "grade": false,
     "grade_id": "cell-ec2e1b9c76bd9963",
     "locked": false,
     "schema_version": 3,
     "solution": true,
     "task": false
    }
   },
   "outputs": [],
   "source": [
    "def add_numbers(num1, num2):\n",
    "    \"\"\"\n",
    "    Adds two numbers and returns their sum.\n",
    "\n",
    "    Parameters:\n",
    "    num1 (int or float): The first number.\n",
    "    num2 (int or float): The second number.\n",
    "\n",
    "    Returns:\n",
    "    int or float: The sum of num1 and num2.\n",
    "    \"\"\"\n",
    "    # YOUR CODE HERE\n",
    "    raise NotImplementedError()\n"
   ]
  },
  {
   "cell_type": "code",
   "execution_count": null,
   "id": "d62fa8ed-003e-4fe6-abba-20787e89663d",
   "metadata": {
    "deletable": false,
    "editable": false,
    "nbgrader": {
     "cell_type": "code",
     "checksum": "b2fa3557d2b1f5413bfe116f71d254e5",
     "grade": true,
     "grade_id": "cell-60b23e0e0c63d509",
     "locked": true,
     "points": 5,
     "schema_version": 3,
     "solution": false,
     "task": false
    }
   },
   "outputs": [],
   "source": [
    "assert add_numbers(2, 2) == 4\n",
    "assert add_numbers(2, -2) == 0\n",
    "assert add_numbers(0, 0) == 0\n",
    "assert add_numbers(7.2, -0.2) == 7\n",
    "assert add_numbers(100, 100.34) == 200.34"
   ]
  },
  {
   "cell_type": "markdown",
   "id": "74539c9c-ac8c-4e25-a4c4-7e83f8463bba",
   "metadata": {
    "deletable": false,
    "editable": false,
    "nbgrader": {
     "cell_type": "markdown",
     "checksum": "5d954295fb80a8dc6d976d6b0d813a46",
     "grade": false,
     "grade_id": "cell-5d30c6da6f9ce868",
     "locked": true,
     "schema_version": 3,
     "solution": false,
     "task": false
    }
   },
   "source": [
    "# Verbose Calculator\n",
    "Let's upgrade our `add_numbers`. Write a function `verbose_add_number`s that takes two numbers as arguments. The function should return their sum and also print the addition expression in the format:\n",
    "`num1 + num2 = result`.\n",
    "\n",
    "```python\n",
    ">>> verbose_add_numbers(2, 2)\n",
    "2 + 2 = 4 # This was printed\n",
    "4 # This is the returned value\n",
    ">>> verbose_add_numbers(30, 19)\n",
    "30 + 19 = 49\n",
    "49\n",
    ">>> verbose_add_numbers(532, 982)\n",
    "532 + 982 = 1514\n",
    "1514\n",
    "```\n",
    "It may be helpful to know how to convert ints to strings:\n",
    "```python\n",
    ">>> my_int = 123\n",
    ">>> type(my_int)\n",
    "<class 'int'>\n",
    ">>> my_str = str(my_int)\n",
    ">>> type(my_str)\n",
    "<class 'str'>\n",
    "```\n",
    "You could also take a look at the [python docs](https://docs.python.org/3/library/functions.html#print) for some cool features that the `print` function has."
   ]
  },
  {
   "cell_type": "code",
   "execution_count": null,
   "id": "851c964b-8a5c-491f-b6ec-595d8e2e1a8d",
   "metadata": {
    "deletable": false,
    "nbgrader": {
     "cell_type": "code",
     "checksum": "a1ad30505b2f69a84ef7f66fe0b14796",
     "grade": false,
     "grade_id": "cell-e7e19ea37f013c03",
     "locked": false,
     "schema_version": 3,
     "solution": true,
     "task": false
    }
   },
   "outputs": [],
   "source": [
    "def verbose_add_numbers(num1, num2):\n",
    "    \"\"\"\n",
    "    Adds two numbers and prints the addition expression.\n",
    "\n",
    "    Args:\n",
    "        a (int or float): The first number.\n",
    "        b (int or float): The second number.\n",
    "\n",
    "    Returns:\n",
    "        int or float: The sum of the two numbers.\n",
    "    \"\"\"\n",
    "    # YOUR CODE HERE\n",
    "    raise NotImplementedError()\n"
   ]
  },
  {
   "cell_type": "code",
   "execution_count": null,
   "id": "a42c39c9-5944-4944-a721-1b36fdc63dce",
   "metadata": {
    "deletable": false,
    "editable": false,
    "nbgrader": {
     "cell_type": "code",
     "checksum": "7d2be5cd80e675c934386845b6102346",
     "grade": true,
     "grade_id": "cell-f189d395252824fe",
     "locked": true,
     "points": 5,
     "schema_version": 3,
     "solution": false,
     "task": false
    }
   },
   "outputs": [],
   "source": [
    "import io\n",
    "import sys\n",
    "\n",
    "# Helper function to capture print output\n",
    "def capture_output(func, *args):\n",
    "    captured_output = io.StringIO()\n",
    "    sys.stdout = captured_output\n",
    "    result = func(*args)\n",
    "    sys.stdout = sys.__stdout__\n",
    "    return result, captured_output.getvalue().strip()\n",
    "\n",
    "# Test 1\n",
    "result, output = capture_output(verbose_add_numbers, 2, 2)\n",
    "assert result == 4, f\"Expected result to be 4, but got {result}.\"\n",
    "assert output == \"2 + 2 = 4\", f\"Expected output to be '2 + 2 = 4', but got '{output}'.\"\n",
    "\n",
    "# Test 2\n",
    "result, output = capture_output(verbose_add_numbers, 30, 19)\n",
    "assert result == 49, f\"Expected result to be 49, but got {result}.\"\n",
    "assert output == \"30 + 19 = 49\", f\"Expected output to be '30 + 19 = 49', but got '{output}'.\"\n",
    "\n",
    "# Test 3\n",
    "result, output = capture_output(verbose_add_numbers, 532, 982)\n",
    "assert result == 1514, f\"Expected result to be 1514, but got {result}.\"\n",
    "assert output == \"532 + 982 = 1514\", f\"Expected output to be '532 + 982 = 1514', but got '{output}'.\"\n",
    "\n",
    "# Test 4: Negative numbers\n",
    "result, output = capture_output(verbose_add_numbers, -5, 3)\n",
    "assert result == -2, f\"Expected result to be -2, but got {result}.\"\n",
    "assert output == \"-5 + 3 = -2\", f\"Expected output to be '-5 + 3 = -2', but got '{output}'.\"\n",
    "\n",
    "# Test 5: Floats\n",
    "result, output = capture_output(verbose_add_numbers, 3.5, 2.1)\n",
    "assert result == 5.6, f\"Expected result to be 5.6, but got {result}.\"\n",
    "assert output == \"3.5 + 2.1 = 5.6\", f\"Expected output to be '3.5 + 2.1 = 5.6', but got '{output}'.\"\n",
    "\n",
    "print(\"All tests passed!\")"
   ]
  },
  {
   "cell_type": "markdown",
   "id": "4d0cc973-29a0-408b-8223-bb44a4da7128",
   "metadata": {
    "deletable": false,
    "editable": false,
    "nbgrader": {
     "cell_type": "markdown",
     "checksum": "acad2bcb4a2d43da1a7278a0cea64568",
     "grade": false,
     "grade_id": "cell-27acde4f1ac9233b",
     "locked": true,
     "schema_version": 3,
     "solution": false,
     "task": false
    }
   },
   "source": [
    "# H4CK3R T3XT\n",
    "Lets make a function that can up the coolness factor of any string by turning it into a h4ck3r string.\n",
    "\n",
    "Replace all instances of 'e' or 'E' with '3'.\n",
    "Replace all instances of 'a' or 'A' with '4'.\n",
    "Replace all instances of 'i' or 'I' with '!'.\n",
    "Replace all instances of 'o' or 'O' with '0'.\n",
    "Replace all instances of 's' or 'S' with '$'.\n",
    "\n",
    "For example:\n",
    "```python\n",
    ">>> to_h4ck3r_string(\"hacker\")\n",
    "h4ck3r\n",
    ">>> to_h4ck3r_string(\"I love programming in Python!\")\n",
    "! l0v3 pr0gr4mm!ng !n Pyth0n!\n",
    "```\n",
    "\n",
    "You may want to check out some of Python's [builtin string methods](https://www.w3schools.com/python/python_ref_string.asp)"
   ]
  },
  {
   "cell_type": "code",
   "execution_count": null,
   "id": "e7564371-76bf-4363-a207-eb128788f15e",
   "metadata": {
    "deletable": false,
    "nbgrader": {
     "cell_type": "code",
     "checksum": "308cd43f7962a1eee214ee5bafb4aa09",
     "grade": false,
     "grade_id": "cell-02787bc223f6004a",
     "locked": false,
     "schema_version": 3,
     "solution": true,
     "task": false
    }
   },
   "outputs": [],
   "source": [
    "def to_h4ck3r_string(input_string):\n",
    "    \"\"\"\n",
    "    Converts the input string into a 'h4ck3r' string by replacing specific characters.\n",
    "\n",
    "    Parameters:\n",
    "    input_string (str): The original string.\n",
    "\n",
    "    Returns:\n",
    "    str: The converted 'h4ck3r' string.\n",
    "    \"\"\"\n",
    "    # YOUR CODE HERE\n",
    "    raise NotImplementedError()"
   ]
  },
  {
   "cell_type": "code",
   "execution_count": null,
   "id": "7f0b921a-c84a-4d4e-9d99-af41de3e5b03",
   "metadata": {
    "deletable": false,
    "editable": false,
    "nbgrader": {
     "cell_type": "code",
     "checksum": "0201830e03178645a8d75f75ee24d8ac",
     "grade": true,
     "grade_id": "cell-99eacd74ff48f9da",
     "locked": true,
     "points": 5,
     "schema_version": 3,
     "solution": false,
     "task": false
    }
   },
   "outputs": [],
   "source": [
    "# Example inputs and outputs\n",
    "assert to_h4ck3r_string(\"hacker\") == \"h4ck3r\"\n",
    "assert to_h4ck3r_string(\"elite\") == \"3l!t3\"\n",
    "assert to_h4ck3r_string(\"I love programming in Python!\") == \"! l0v3 pr0gr4mm!ng !n Pyth0n!\"\n",
    "assert to_h4ck3r_string(\"PaSsWoRd\") == \"P4$$W0Rd\""
   ]
  },
  {
   "cell_type": "markdown",
   "id": "8c8ffa4d-d99f-456e-a166-4928625a5b39",
   "metadata": {
    "deletable": false,
    "editable": false,
    "nbgrader": {
     "cell_type": "markdown",
     "checksum": "2602fb0b3b91d7bc7282f84f5df73d3a",
     "grade": false,
     "grade_id": "cell-0e99b148206b1c0a",
     "locked": true,
     "schema_version": 3,
     "solution": false,
     "task": false
    }
   },
   "source": [
    "# Conditional Execution\n",
    "\n",
    "\n",
    "So far you may have thought that our code is a little bland. It executes in the same order every time. Let's change that with the `if` statement.\n",
    "\n",
    "\n",
    "The `if` statement in python has a simple syntax structure.\n",
    "```python\n",
    "if CONDITION:\n",
    "    CODE_TO_RUN_IF_CONDITION_IS_TRUE\n",
    "\n",
    "\n",
    "CODE_AFTER_IF_STATEMENT\n",
    "```\n",
    "`CONDITION` is a boolean expression. A boolean expression is a piece of code that returns `True` or `False` when it is executed. Below are a couple of boolean expressions with numbers.\n",
    "\n",
    "\n",
    "```python\n",
    ">>> 3 == 3\n",
    "True\n",
    ">>> 3 == 4\n",
    "False\n",
    ">>> 3 < 4\n",
    "True\n",
    ">>> 3 > 4\n",
    "False\n",
    "```\n",
    "\n",
    "\n",
    "For `a` and `b` numbers, Python gives us these Boolean operators to make Boolean expressions:\n",
    "* Equals: `a == b` returns `True` if `a` and `b` have the same value\n",
    "* Not Equals: `a != b`\n",
    "* Less than: `a < b` returns `True` if a is strictly less than b\n",
    "* Less than or equal to: `a <= b` returns `True` if `a` is less than `b` or `a` equals `b`\n",
    "* Greater than: `a > b` returns `True` if a is strictly greater than `b`\n",
    "* Greater than or equal to: `a >= b` returns `True` is `a` is greater than `b` or `a` equals `b`\n",
    "\n",
    "\n",
    "If `CONDITION` returns `True` then `CODE_TO_RUN_IF_CONDITION_IS_TRUE` is executed. Othersie `CODE_TO_RUN` is skipped. Note that regaurdless of if `CONDITION` is `True` or `False`, the `CODE_AFTER_IF_STATEMENT` still runs. \n",
    "```python\n",
    "x = 10\n",
    "\n",
    "\n",
    "if x == 10: #check if x is equal to 10\n",
    "    print(\"x has value 10\")\n",
    "    \n",
    "print(\"DONE\")\n",
    "```\n",
    "When you run this, both print statements indeed get executed. However, the program below only prints \"DONE\". \n",
    "```python\n",
    "x = 11\n",
    "\n",
    "\n",
    "if x == 10: #check if x is equal to 10\n",
    "    print(\"x has value 10\")\n",
    "    \n",
    "print(\"DONE\")\n",
    "```\n",
    "This is because the boolean expression `x == 10` returned `False`.\n",
    "\n",
    "\n",
    "If we want to execute another block of code in the case that our boolean expression returns `False`, we can use the `else` keyword.\n",
    "```python\n",
    "if CONDITION:\n",
    "    CODE_TO_RUN_IF_CONDITION_IS_TRUE\n",
    "else:\n",
    "    CODE_TO_RUN_IF_CONDITION_IS_FALSE\n",
    "\n",
    "\n",
    "CODE_AFTER_IF_STATEMENT\n",
    "```\n",
    "For example, \n",
    "\n",
    "\n",
    "```python\n",
    "x = 10\n",
    "\n",
    "\n",
    "if x == 10: #check if x is equal to 10\n",
    "    print(\"x has value 10\")\n",
    "else:\n",
    "    print(\"x does not have value 10\")\n",
    "\n",
    "\n",
    "print(\"DONE\")\n",
    "```\n",
    "\n",
    "\n",
    "We can check for more conditions with the `elif` keyword (short for else-if).\n",
    "\n",
    "\n",
    "```python\n",
    "x = 10\n",
    "\n",
    "\n",
    "if x > 10:\n",
    "    print(\"x has value more than 10\")\n",
    "elif x == 10:\n",
    "    print(\"x has value 10\")\n",
    "else:\n",
    "    print(\"x has value less than 10\")\n",
    "\n",
    "\n",
    "print(\"DONE\")\n",
    "```\n",
    "Note that once a boolean expression evaluates to `True` in a long list of `if` and `elif` statements, the rest of the `elif` statements are ignored. Take this code for example.\n",
    "```python\n",
    "x = 50\n",
    "\n",
    "\n",
    "if x >= 100:\n",
    "    print(\"x has value at least 100\")\n",
    "elif x >= 75:\n",
    "    print(\"x has value at least 75\")\n",
    "elif x >= 50:\n",
    "    print(\"x has value at least 50\")\n",
    "elif x >= 25:\n",
    "    print(\"x has value at least 25\")\n",
    "else:\n",
    "    print(\"x has value less than 25\")\n",
    "\n",
    "\n",
    "print(\"DONE\")\n",
    "```\n",
    "When you run it only \"x has value at least 50\" is printed and \"x has value at least 25\" is not printed!\n",
    "\n",
    "\n",
    "`if` statments will be very important for future assignments, so if you did not understand this short explanation I reccomend watching a few explaner vidoes on youTube.\n",
    "\n",
    "\n"
   ]
  },
  {
   "cell_type": "markdown",
   "id": "7d9d983d-142f-4a5e-8563-8c7947594736",
   "metadata": {
    "deletable": false,
    "editable": false,
    "nbgrader": {
     "cell_type": "markdown",
     "checksum": "6c7b5ccb80b29fb551b18f2206fc33cc",
     "grade": false,
     "grade_id": "cell-c342fab6a5cd5c03",
     "locked": true,
     "schema_version": 3,
     "solution": false,
     "task": false
    }
   },
   "source": [
    "# Even/Odd?\n",
    "Let's put our new `if` skills to use. Write a function that takes in an integer and returns `\"even\"` if the integer is even and `\"odd\"` if the integer is odd."
   ]
  },
  {
   "cell_type": "code",
   "execution_count": null,
   "id": "4ad8fff0-f4ff-460c-b5fe-9adef901a748",
   "metadata": {
    "deletable": false,
    "nbgrader": {
     "cell_type": "code",
     "checksum": "5d48e7399a0d844a63177317af29205a",
     "grade": false,
     "grade_id": "cell-d512500accec9025",
     "locked": false,
     "schema_version": 3,
     "solution": true,
     "task": false
    }
   },
   "outputs": [],
   "source": [
    "def even_or_odd(n):\n",
    "    \"\"\"\n",
    "    Determines if an integer is even or odd.\n",
    "\n",
    "    Args:\n",
    "        n (int): The integer to check.\n",
    "\n",
    "    Returns:\n",
    "        str: \"even\" if the integer is even, \"odd\" if the integer is odd.\n",
    "    \"\"\"\n",
    "    # YOUR CODE HERE\n",
    "    raise NotImplementedError()\n"
   ]
  },
  {
   "cell_type": "code",
   "execution_count": null,
   "id": "0fbeb8c8-55bc-4220-8fab-e58a25886c53",
   "metadata": {
    "deletable": false,
    "editable": false,
    "nbgrader": {
     "cell_type": "code",
     "checksum": "323a2d8c2aec23dd0d235398cbca422a",
     "grade": true,
     "grade_id": "cell-0f1aea875c8e1001",
     "locked": true,
     "points": 5,
     "schema_version": 3,
     "solution": false,
     "task": false
    }
   },
   "outputs": [],
   "source": [
    "# Test 1: Even number\n",
    "assert even_or_odd(2) == \"even\", \"Test case failed: even_or_odd(2) should return 'even'.\"\n",
    "\n",
    "# Test 2: Odd number\n",
    "assert even_or_odd(3) == \"odd\", \"Test case failed: even_or_odd(3) should return 'odd'.\"\n",
    "\n",
    "# Test 3: Zero (even)\n",
    "assert even_or_odd(0) == \"even\", \"Test case failed: even_or_odd(0) should return 'even'.\"\n",
    "\n",
    "# Test 4: Negative even number\n",
    "assert even_or_odd(-8) == \"even\", \"Test case failed: even_or_odd(-8) should return 'even'.\"\n",
    "\n",
    "# Test 5: Negative odd number\n",
    "assert even_or_odd(-7) == \"odd\", \"Test case failed: even_or_odd(-7) should return 'odd'.\"\n",
    "\n",
    "# Test 6: Large even number\n",
    "assert even_or_odd(10**6) == \"even\", \"Test case failed: even_or_odd(10**6) should return 'even'.\"\n",
    "\n",
    "# Test 7: Large odd number\n",
    "assert even_or_odd(10**6 + 1) == \"odd\", \"Test case failed: even_or_odd(10**6 + 1) should return 'odd'.\""
   ]
  }
 ],
 "metadata": {
  "kernelspec": {
   "display_name": "Python 3 (ipykernel)",
   "language": "python",
   "name": "python3"
  },
  "language_info": {
   "codemirror_mode": {
    "name": "ipython",
    "version": 3
   },
   "file_extension": ".py",
   "mimetype": "text/x-python",
   "name": "python",
   "nbconvert_exporter": "python",
   "pygments_lexer": "ipython3",
   "version": "3.12.3"
  }
 },
 "nbformat": 4,
 "nbformat_minor": 5
}
