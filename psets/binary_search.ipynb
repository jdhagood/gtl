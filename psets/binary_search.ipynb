{
 "cells": [
  {
   "cell_type": "markdown",
   "id": "02c5d341",
   "metadata": {},
   "source": [
    "Before you turn this problem in, make sure everything runs as expected. First, **restart the kernel** (in the menubar, select Kernel $\\rightarrow$ Restart) and then **run all cells** (in the menubar, select Cell $\\rightarrow$ Run All).\n",
    "\n",
    "Make sure you fill in any place that says `YOUR CODE HERE` or \"YOUR ANSWER HERE\", as well as your name and collaborators below:"
   ]
  },
  {
   "cell_type": "code",
   "execution_count": null,
   "id": "9b2a8cea",
   "metadata": {},
   "outputs": [],
   "source": [
    "NAME = \"\"\n",
    "COLLABORATORS = \"\""
   ]
  },
  {
   "cell_type": "markdown",
   "id": "de42b745",
   "metadata": {},
   "source": [
    "---"
   ]
  },
  {
   "cell_type": "markdown",
   "id": "1f48c420-59bb-4e17-a531-042fba2edf02",
   "metadata": {
    "deletable": false,
    "editable": false,
    "nbgrader": {
     "cell_type": "markdown",
     "checksum": "633078b236afaebc224d36ff7136aca5",
     "grade": false,
     "grade_id": "cell-1c71f4501faefaf7",
     "locked": true,
     "schema_version": 3,
     "solution": false,
     "task": false
    }
   },
   "source": [
    "# Purpose of this assignment\n",
    "This assignment is supposed to test you on the `print` fuction, `if` statements, `lists` and binary search."
   ]
  },
  {
   "cell_type": "markdown",
   "id": "7fd495f3-cf32-416c-adbb-354f3178b56f",
   "metadata": {
    "deletable": false,
    "editable": false,
    "nbgrader": {
     "cell_type": "markdown",
     "checksum": "229936dd8851a32f3bcf795f9724a3a2",
     "grade": false,
     "grade_id": "cell-6245869583b7a54e",
     "locked": true,
     "schema_version": 3,
     "solution": false,
     "task": false
    }
   },
   "source": [
    "# fizzbuzz\n",
    "This question is asked so much in technical interviews and on intro CS problem sets that it has become a meme. It is important to know how to solve it so you can start making fun of it too!\n",
    "\n",
    "\n",
    "Implement the function `fizzbuzz` that prints out the numbers 1 to 100 in the terminal, but if a number is a multiple of 3 you should print \"fizz\", if the number is a multiple of 5 you should print \"buzz\", and if the number is a multiple of both 3 and 5 you should print \"fizzbuzz\". It will look like this:\n",
    "```\n",
    "1\n",
    "2\n",
    "fizz\n",
    "4\n",
    "buzz\n",
    "fizz\n",
    "7\n",
    "8\n",
    "fizz\n",
    "buzz\n",
    "11\n",
    "fizz\n",
    "13\n",
    "14\n",
    "fizzbuzz\n",
    "16\n",
    "...\n",
    "98\n",
    "fizz\n",
    "buzz\n",
    "```"
   ]
  },
  {
   "cell_type": "code",
   "execution_count": null,
   "id": "a85a7cf5-3a5e-4cab-b325-0498e4764a0f",
   "metadata": {
    "deletable": false,
    "nbgrader": {
     "cell_type": "code",
     "checksum": "908cccf8262fd6b850402fdbfccf6bc3",
     "grade": false,
     "grade_id": "cell-d98876d99dffa069",
     "locked": false,
     "schema_version": 3,
     "solution": true,
     "task": false
    }
   },
   "outputs": [],
   "source": [
    "def fizzbuzz():\n",
    "    \"\"\"\n",
    "    Prints numbers from 1 to 100 with the following rules:\n",
    "    \n",
    "    - For numbers that are multiples of 3, prints \"fizz\".\n",
    "    - For numbers that are multiples of 5, prints \"buzz\".\n",
    "    - For numbers that are multiples of both 3 and 5, prints \"fizzbuzz\".\n",
    "    - For all other numbers, prints the number itself.\n",
    "    \n",
    "    The function outputs each result on a new line in the terminal.\n",
    "    \"\"\"\n",
    "    # YOUR CODE HERE\n",
    "    raise NotImplementedError()"
   ]
  },
  {
   "cell_type": "code",
   "execution_count": null,
   "id": "4af543cd-215c-437e-b825-0f3c0c861032",
   "metadata": {
    "deletable": false,
    "editable": false,
    "nbgrader": {
     "cell_type": "code",
     "checksum": "3f0a025eaadb0fd46210342b99dabe4e",
     "grade": true,
     "grade_id": "cell-9a26cdd615c504d2",
     "locked": true,
     "points": 5,
     "schema_version": 3,
     "solution": false,
     "task": false
    }
   },
   "outputs": [],
   "source": [
    "# Test Cases\n",
    "\n",
    "import io\n",
    "import sys\n",
    "\n",
    "# Helper function to capture print output\n",
    "def capture_output(func, *args):\n",
    "    captured_output = io.StringIO()\n",
    "    sys.stdout = captured_output\n",
    "    result = func(*args)\n",
    "    sys.stdout = sys.__stdout__\n",
    "    return result, captured_output.getvalue().strip()\n",
    "\n",
    "# Verbose test case\n",
    "result, output = capture_output(fizzbuzz)\n",
    "printed_lines = output.split(\"\\n\")\n",
    "\n",
    "\n",
    "assert len(printed_lines) == 100, \"You did not print the correct number of times\"\n",
    "\n",
    "expected_lines = [(0, \"1\"), (1, \"2\"), (2, \"fizz\"), (3, \"4\"), (4, \"buzz\"), (5, \"fizz\"), (6, \"7\"), \n",
    "                  (7, \"8\"), (8, \"fizz\"), (9, \"buzz\"), (14, \"fizzbuzz\"), (29, \"fizzbuzz\"), (97, \"98\"), (98, \"fizz\"), (99, \"buzz\")]\n",
    "error_found = False\n",
    "\n",
    "for i, expected in expected_lines:\n",
    "    try:\n",
    "        actual = printed_lines[i]\n",
    "        assert actual == expected, f\"Line {i+1} is incorrect. Expected '{expected}', but got '{actual}'.\"\n",
    "    except IndexError:\n",
    "        print(f\"Error: Line {i+1} is missing. Expected '{expected}'.\")\n",
    "        error_found = True\n",
    "    except AssertionError as e:\n",
    "        print(e)\n",
    "        error_found = True\n",
    "\n",
    "if not error_found:\n",
    "    print(\"All test cases passed!\")\n"
   ]
  },
  {
   "cell_type": "markdown",
   "id": "b0382c8a-90d8-4237-b57d-5938d20d1954",
   "metadata": {
    "deletable": false,
    "editable": false,
    "nbgrader": {
     "cell_type": "markdown",
     "checksum": "0400385b74658e273dda1fbd0f4b680b",
     "grade": false,
     "grade_id": "cell-d8523707e07a94c7",
     "locked": true,
     "schema_version": 3,
     "solution": false,
     "task": false
    }
   },
   "source": [
    "# Polynomial Evaluation\n",
    "To Start off, recall from math class that a polynomial is a function that adds together scaled powers of some variable, like x. For instance\n",
    "$$\n",
    "f(x) = x + 1\n",
    "$$\n",
    "$$\n",
    "f(x) = x^2 - 10x + 5\n",
    "$$\n",
    "$$\n",
    "f(x) = x^{100} - 400x^{50}\n",
    "$$\n",
    "are all polynomials.\n",
    "\n",
    "We will represent the coefficients of a polynomial in a list with the highest degree coefficient at the last index of the list. For instance\n",
    "```python\n",
    "[1, 0, 2]\n",
    "```\n",
    "represents\n",
    "$$\n",
    "2 x^{2} + 0x + 1\n",
    "$$\n",
    "and \n",
    "```python\n",
    "[1, 2, 3, 4, 5]\n",
    "```\n",
    "represents\n",
    "$$\n",
    "5 x^{4} + 4x^3 + 3x^2+2x+1\n",
    "$$\n",
    "\n",
    "Implement the `poly_evaluate` function which takes in a number and list and outputs the polynomial evaluated at that number. For instance\n",
    "```python\n",
    ">>> poly_evaluate(2, [1, 0, 2])\n",
    "9\n",
    "```\n",
    "because\n",
    "$$\n",
    "2(2^2)+1=9\n",
    "$$"
   ]
  },
  {
   "cell_type": "code",
   "execution_count": null,
   "id": "52c59366-d2db-45aa-83e0-182927f0b612",
   "metadata": {
    "deletable": false,
    "nbgrader": {
     "cell_type": "code",
     "checksum": "ad4b29f807baff016b78cd8930a26b56",
     "grade": false,
     "grade_id": "cell-ddd9c6676fd382e1",
     "locked": false,
     "schema_version": 3,
     "solution": true,
     "task": false
    }
   },
   "outputs": [],
   "source": [
    "def poly_evaluate(x, coefficients):\n",
    "    \"\"\"\n",
    "    Evaluate a polynomial at a given value of x.\n",
    "\n",
    "    The polynomial is represented by a list of coefficients, where the last element \n",
    "    corresponds to the highest degree term. The function computes the value of the \n",
    "    polynomial by summing the scaled powers of x.\n",
    "\n",
    "    Args:\n",
    "        x (float): The value at which to evaluate the polynomial.\n",
    "        coefficients (list[float]): A list of coefficients representing the polynomial, \n",
    "            with the highest degree coefficient at the last index.\n",
    "\n",
    "    Returns:\n",
    "        float: The result of evaluating the polynomial at the given value of x.\n",
    "\n",
    "    Examples:\n",
    "        >>> poly_evaluate(2, [1, 0, 2])\n",
    "        9\n",
    "        >>> poly_evaluate(3, [1, 2, 3, 4])\n",
    "        142\n",
    "        >>> poly_evaluate(0, [5, -3, 2])\n",
    "        5\n",
    "    \"\"\"\n",
    "    # YOUR CODE HERE\n",
    "    raise NotImplementedError()\n"
   ]
  },
  {
   "cell_type": "code",
   "execution_count": null,
   "id": "8447b41b-db25-4b5c-bce1-493c15b451ea",
   "metadata": {
    "deletable": false,
    "editable": false,
    "nbgrader": {
     "cell_type": "code",
     "checksum": "e8d7681ba7533a2bdcdad7120e0e69b6",
     "grade": true,
     "grade_id": "cell-1edc12fb865aee19",
     "locked": true,
     "points": 5,
     "schema_version": 3,
     "solution": false,
     "task": false
    }
   },
   "outputs": [],
   "source": [
    "# TEST CASES\n",
    "\n",
    "def test_poly_evaluate():\n",
    "    # Test Case 1: Simple polynomial [1, 0, 2] -> 2x^2 + 0x + 1\n",
    "    assert poly_evaluate(2, [1, 0, 2]) == 9, \"Test Case 1 Failed\"\n",
    "\n",
    "    # Test Case 2: Linear polynomial [1, 1] -> x + 1\n",
    "    assert poly_evaluate(3, [1, 1]) == 4, \"Test Case 2 Failed\"\n",
    "\n",
    "    # Test Case 3: Polynomial with higher degree [1, 2, 3, 4, 5] -> 5x^4 + 4x^3 + 3x^2 + 2x + 1\n",
    "    assert poly_evaluate(1, [1, 2, 3, 4, 5]) == 15, \"Test Case 3 Failed\"\n",
    "    assert poly_evaluate(0, [1, 2, 3, 4, 5]) == 1, \"Test Case 3a Failed\"\n",
    "\n",
    "    # Test Case 4: Polynomial with all zero coefficients\n",
    "    assert poly_evaluate(10, [0, 0, 0, 0]) == 0, \"Test Case 4 Failed\"\n",
    "\n",
    "    # Test Case 5: Constant polynomial [5] -> 5\n",
    "    assert poly_evaluate(100, [5]) == 5, \"Test Case 5 Failed\"\n",
    "\n",
    "    # Test Case 6: Polynomial with negative coefficients [-1, 0, 2] -> 2x^2 + (-1)\n",
    "    assert poly_evaluate(3, [-1, 0, 2]) == 17, \"Test Case 6 Failed\"\n",
    "\n",
    "    # Test Case 7: Fractional coefficients [0.5, 0.25] -> 0.25x + 0.5\n",
    "    assert poly_evaluate(4, [0.5, 0.25]) == 1.5, \"Test Case 7 Failed\"\n",
    "\n",
    "    # Test Case 8: Polynomial evaluated at a negative x [-1, 0, 1] -> x^2 - 1\n",
    "    assert poly_evaluate(-2, [-1, 0, 1]) == 3, \"Test Case 8 Failed\"\n",
    "\n",
    "    print(\"All test cases passed!\")\n",
    "\n",
    "# Run the tests\n",
    "test_poly_evaluate()\n"
   ]
  },
  {
   "cell_type": "markdown",
   "id": "507884ee-1b3d-4e77-9ff2-4fde22b8af1a",
   "metadata": {
    "deletable": false,
    "editable": false,
    "nbgrader": {
     "cell_type": "markdown",
     "checksum": "c2664735533f77e39bcd5dacececa0e5",
     "grade": false,
     "grade_id": "cell-390cc3027304d349",
     "locked": true,
     "schema_version": 3,
     "solution": false,
     "task": false
    }
   },
   "source": [
    "# Something went wrong\n",
    "The _cube root_ of a number, _n_, is defined to be the real number, such that when the number is cubed, it equals _n_.\n",
    "$$\n",
    "(\\sqrt[3]{n})^3 = n\n",
    "$$\n",
    "The function below is supposed to find a good approximation for the cube root of any given number, but something is going wrong. Can you find and fix the error(s) in the code?"
   ]
  },
  {
   "cell_type": "code",
   "execution_count": null,
   "id": "80926deb-36e4-45da-852a-391d513595fc",
   "metadata": {
    "deletable": false,
    "editable": false,
    "nbgrader": {
     "cell_type": "code",
     "checksum": "7afcac29ef64111c0a3ee2dc9d0dccf2",
     "grade": false,
     "grade_id": "cell-135c917acfcba515",
     "locked": true,
     "schema_version": 3,
     "solution": false,
     "task": false
    }
   },
   "outputs": [],
   "source": [
    "def cube_root(n):\n",
    "    \"\"\"\n",
    "    Approximates the cube root of a given number using the bisection method.\n",
    "\n",
    "    This function computes an approximation of the cube root of a number `n`\n",
    "    with an error tolerance of 0.001. It handles both positive and negative\n",
    "    input values, returning the cube root with the correct sign.\n",
    "\n",
    "    Parameters:\n",
    "        n (float): The number to approximate the cube root for.\n",
    "\n",
    "    Returns:\n",
    "        float: An approximation of the cube root of `n`.\n",
    "\n",
    "    Example:\n",
    "        >>> cube_root(8)\n",
    "        2.0\n",
    "        >>> cube_root(-27)\n",
    "        -3.0\n",
    "        >>> cube_root(0.5)\n",
    "        0.7937\n",
    "    \"\"\"\n",
    "    # Keep track of the sign of the input number\n",
    "    if n != abs(n):\n",
    "        sign = 1\n",
    "    else:\n",
    "        sign = -1\n",
    "\n",
    "    #cube_root(-n) = -cube_root(n)\n",
    "    n = abs(n)\n",
    "    \n",
    "    lower_bound = 0\n",
    "    upper_bound = min(n, 1)\n",
    "\n",
    "    # repeat while the lower_bound cubed is far away from n\n",
    "    while abs(lower_bound ** 3 - n) < 0.001:\n",
    "        middle = (lower_bound - upper_bound)/2\n",
    "        if middle**3 - n < 0:\n",
    "            upper_bound = middle\n",
    "        else: \n",
    "            upper_bound = middle\n",
    "\n",
    "    # lower_bound is now close to the actual cube root\n",
    "    return sign*lower_bound\n",
    "            "
   ]
  },
  {
   "cell_type": "code",
   "execution_count": null,
   "id": "7e1d599c-5c78-42b6-b524-826c4a4fb000",
   "metadata": {
    "deletable": false,
    "editable": false,
    "nbgrader": {
     "cell_type": "code",
     "checksum": "a944fd9ea6ad765d9ef65493d468b580",
     "grade": true,
     "grade_id": "cell-79f019e1c25169eb",
     "locked": true,
     "points": 5,
     "schema_version": 3,
     "solution": false,
     "task": false
    }
   },
   "outputs": [],
   "source": [
    "# TEST CASES\n",
    "\n",
    "def test_cube_root():\n",
    "    # Test Case 1: Perfect cube (positive)\n",
    "    result = cube_root(8)\n",
    "    assert abs(result - 2.0) < 0.001, f\"Failed: cube_root(8) = {result}, expected ~2.0\"\n",
    "\n",
    "    # Test Case 2: Perfect cube (negative)\n",
    "    result = cube_root(-27)\n",
    "    assert abs(result - (-3.0)) < 0.001, f\"Failed: cube_root(-27) = {result}, expected ~-3.0\"\n",
    "\n",
    "    # Test Case 3: Small positive number\n",
    "    result = cube_root(0.5)\n",
    "    assert abs(result - 0.7937) < 0.001, f\"Failed: cube_root(0.5) = {result}, expected ~0.7937\"\n",
    "\n",
    "    # Test Case 4: Small negative number\n",
    "    result = cube_root(-0.125)\n",
    "    assert abs(result - (-0.5)) < 0.001, f\"Failed: cube_root(-0.125) = {result}, expected ~-0.5\"\n",
    "\n",
    "    # Test Case 5: Large positive number\n",
    "    result = cube_root(1000)\n",
    "    assert abs(result - 10.0) < 0.001, f\"Failed: cube_root(1000) = {result}, expected ~10.0\"\n",
    "\n",
    "    # Test Case 6: Large negative number\n",
    "    result = cube_root(-343000)\n",
    "    assert abs(result - (-70.0)) < 0.001, f\"Failed: cube_root(-343000) = {result}, expected ~-70.0\"\n",
    "\n",
    "    # Test Case 7: Zero\n",
    "    result = cube_root(0)\n",
    "    assert abs(result - 0.0) < 0.001, f\"Failed: cube_root(0) = {result}, expected ~0.0\"\n",
    "\n",
    "    # Test Case 10: Non-perfect cube\n",
    "    result = cube_root(15)\n",
    "    expected = 15 ** (1/3)  # Use Python's built-in cube root approximation for comparison\n",
    "    assert abs(result - expected) < 0.001, f\"Failed: cube_root(15) = {result}, expected ~{expected}\"\n",
    "\n",
    "    print(\"All test cases passed!\")\n",
    "\n",
    "# Run the test cases\n",
    "test_cube_root()\n"
   ]
  },
  {
   "cell_type": "markdown",
   "id": "d5fea4f2-bae4-4efd-b1d1-8951d9031b5e",
   "metadata": {
    "deletable": false,
    "editable": false,
    "nbgrader": {
     "cell_type": "markdown",
     "checksum": "cedd4a56124eeede48d2c64c228e11a9",
     "grade": false,
     "grade_id": "cell-fc5a9ecb84f8f302",
     "locked": true,
     "schema_version": 3,
     "solution": false,
     "task": false
    }
   },
   "source": [
    "# Searching an ordered list\n",
    "You are tasked with implementing an algorithm to determine if a given target element exists in a sorted list of integers. Implement the function `binary_search` that takes in the list `nums` and the integer `target` and returns `True` if `nums` is in `Target` and `False` otherwise.\n",
    "\n",
    "Simply using `return target in nums` is not correct because this is not a binary search algorithm and runs in O(n) time instead of O(log(n)) time."
   ]
  },
  {
   "cell_type": "code",
   "execution_count": null,
   "id": "8cbb5c2f-709f-4e4d-bb0c-eb30eef38387",
   "metadata": {
    "deletable": false,
    "nbgrader": {
     "cell_type": "code",
     "checksum": "0089d6bfa98bc19813d3331fbc911563",
     "grade": false,
     "grade_id": "cell-4049d323231415d3",
     "locked": false,
     "schema_version": 3,
     "solution": true,
     "task": false
    }
   },
   "outputs": [],
   "source": [
    "def binary_search(nums, target):\n",
    "    \"\"\"\n",
    "    Perform binary search to determine if a target exists in a sorted list.\n",
    "\n",
    "    Args:\n",
    "        nums (list[int]): A list of integers sorted in non-decreasing order.\n",
    "        target (int): The integer value to search for in the list.\n",
    "\n",
    "    Returns:\n",
    "        bool: True if the target exists in the list, False otherwise.\n",
    "\n",
    "    Example:\n",
    "        >>> binary_search([1, 3, 5, 7, 9, 11], 5)\n",
    "        True\n",
    "\n",
    "        >>> binary_search([2, 4, 6, 8, 10], 3)\n",
    "        False\n",
    "\n",
    "        >>> binary_search([-10, -5, 0, 5, 10], -5)\n",
    "        True\n",
    "\n",
    "    \"\"\"\n",
    "    # YOUR CODE HERE\n",
    "    raise NotImplementedError()\n"
   ]
  },
  {
   "cell_type": "code",
   "execution_count": null,
   "id": "5229fd3a-2761-4bd8-b6d2-6098b2f3475d",
   "metadata": {
    "deletable": false,
    "editable": false,
    "nbgrader": {
     "cell_type": "code",
     "checksum": "b7a269cd9d9224e5b458f8c681d2ea66",
     "grade": true,
     "grade_id": "cell-3424cd9193d05c4b",
     "locked": true,
     "points": 0,
     "schema_version": 3,
     "solution": false,
     "task": false
    }
   },
   "outputs": [],
   "source": [
    "# TEST CASES\n",
    "\n",
    "assert binary_search([1, 3, 5, 7, 9, 11], 5) == True, \"Got False; Expected True\"\n",
    "assert binary_search([1, 3, 5, 7, 9, 11], 11) == True, \"Got False; Expected True\"\n",
    "assert binary_search([1, 3, 5, 7, 9, 11], 1) == True, \"Got False; Expected True\"\n",
    "assert binary_search([1, 3, 5, 7, 9, 11], 60) == False, \"Got True; Expected False\"\n",
    "assert binary_search(list(range(50, 200, 2)), 101) == False, \"Got True; Expected False\"\n",
    "assert binary_search(list(range(200)), 200) == False, \"Got True; Expected False\"\n",
    "assert binary_search(list(range(0, 100000, 3)), 999) == True, \"Got False; Expected True\"\n",
    "\n",
    "print(\"All test cases passed!\")"
   ]
  },
  {
   "cell_type": "markdown",
   "id": "746bcdd8-8864-44be-ba76-647d1b14a74d",
   "metadata": {},
   "source": [
    "# More Practice\n",
    "\n",
    "If you want to get some more practice with binary search and programatic problem solving skills, check out these leetcode challenges that you can solve in python. \n",
    "\n",
    "[Find peak element](https://leetcode.com/problems/find-peak-element/description/) \n",
    "\n",
    "[Find peak element II](https://leetcode.com/problems/find-a-peak-element-ii/description/) (binary search with 2D array)"
   ]
  }
 ],
 "metadata": {
  "kernelspec": {
   "display_name": "Python 3 (ipykernel)",
   "language": "python",
   "name": "python3"
  },
  "language_info": {
   "codemirror_mode": {
    "name": "ipython",
    "version": 3
   },
   "file_extension": ".py",
   "mimetype": "text/x-python",
   "name": "python",
   "nbconvert_exporter": "python",
   "pygments_lexer": "ipython3",
   "version": "3.12.3"
  }
 },
 "nbformat": 4,
 "nbformat_minor": 5
}
