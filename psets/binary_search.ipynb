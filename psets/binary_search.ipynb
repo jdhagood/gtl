{
 "cells": [
  {
   "cell_type": "markdown",
   "id": "aa8b1fce",
   "metadata": {},
   "source": [
    "Before you turn this problem in, make sure everything runs as expected. First, **restart the kernel** (in the menubar, select Kernel $\\rightarrow$ Restart) and then **run all cells** (in the menubar, select Cell $\\rightarrow$ Run All).\n",
    "\n",
    "Make sure you fill in any place that says `YOUR CODE HERE` or \"YOUR ANSWER HERE\", as well as your name and collaborators below:"
   ]
  },
  {
   "cell_type": "code",
   "execution_count": null,
   "id": "41bcf91c",
   "metadata": {},
   "outputs": [],
   "source": [
    "NAME = \"\"\n",
    "COLLABORATORS = \"\""
   ]
  },
  {
   "cell_type": "markdown",
   "id": "b56718f3",
   "metadata": {},
   "source": [
    "---"
   ]
  },
  {
   "cell_type": "markdown",
   "id": "7fd495f3-cf32-416c-adbb-354f3178b56f",
   "metadata": {
    "deletable": false,
    "editable": false,
    "nbgrader": {
     "cell_type": "markdown",
     "checksum": "4ed018b10d2b18dae4cf311b284013a4",
     "grade": false,
     "grade_id": "cell-6245869583b7a54e",
     "locked": true,
     "schema_version": 3,
     "solution": false,
     "task": false
    }
   },
   "source": [
    "# fizzbuzz\n",
    "This question is asked so much in technical interviews and on intro CS problem sets that it has become a meme. However, it is still important to know how to solve it so you can start making fun of it too!\n",
    "\n",
    "Implement the function `fizzbuzz` that prints out the numbers 1 to 100 in the terminal, but if a number is a multiple of 3 you should print \"fizz\", if the number is a multiple of 5 you should print \"buzz\", and if the number is a multiple of both 3 and 5 you should print \"fizzbuzz\". It will look like this: \n",
    "```\n",
    "1\n",
    "2\n",
    "fizz\n",
    "4\n",
    "buzz\n",
    "fizz\n",
    "7\n",
    "8\n",
    "fizz\n",
    "buzz\n",
    "11\n",
    "fizz\n",
    "13\n",
    "14\n",
    "fizzbuzz\n",
    "16\n",
    "...\n",
    "98\n",
    "fizz\n",
    "buzz\n",
    "```"
   ]
  },
  {
   "cell_type": "code",
   "execution_count": null,
   "id": "a85a7cf5-3a5e-4cab-b325-0498e4764a0f",
   "metadata": {
    "deletable": false,
    "nbgrader": {
     "cell_type": "code",
     "checksum": "d5c13bd52c560c0621880813a9f5a853",
     "grade": false,
     "grade_id": "cell-d98876d99dffa069",
     "locked": false,
     "schema_version": 3,
     "solution": true,
     "task": false
    }
   },
   "outputs": [],
   "source": [
    "def fizzbuzz():\n",
    "    \"\"\"\n",
    "    Prints the numbers from 1 to 100, but with the following exceptions:\n",
    "    \n",
    "    - For numbers that are multiples of 3, print \"fizz\" instead of the number.\n",
    "    - For numbers that are multiples of 5, print \"buzz\" instead of the number.\n",
    "    - For numbers that are multiples of both 3 and 5, print \"fizzbuzz\" instead of the number.\n",
    "    \n",
    "    \"\"\"\n",
    "    # YOUR CODE HERE\n",
    "    raise NotImplementedError()"
   ]
  },
  {
   "cell_type": "code",
   "execution_count": null,
   "id": "4af543cd-215c-437e-b825-0f3c0c861032",
   "metadata": {
    "deletable": false,
    "editable": false,
    "nbgrader": {
     "cell_type": "code",
     "checksum": "ecad13b950f55cdefe9a63816327f0f6",
     "grade": true,
     "grade_id": "cell-9a26cdd615c504d2",
     "locked": true,
     "points": 5,
     "schema_version": 3,
     "solution": false,
     "task": false
    }
   },
   "outputs": [],
   "source": [
    "import io\n",
    "import sys\n",
    "\n",
    "# Helper function to capture print output\n",
    "def capture_output(func, *args):\n",
    "    captured_output = io.StringIO()\n",
    "    sys.stdout = captured_output\n",
    "    result = func(*args)\n",
    "    sys.stdout = sys.__stdout__\n",
    "    return result, captured_output.getvalue().strip()\n",
    "\n",
    "result, output = capture_output(fizzbuzz)\n",
    "printed_lines = output.split(\"\\n\")\n",
    "assert printed_lines[0] == \"1\"\n",
    "assert printed_lines[1] == \"2\"\n",
    "assert printed_lines[2] == \"fizz\"\n",
    "assert printed_lines[3] == \"4\"\n",
    "assert printed_lines[4] == \"buzz\""
   ]
  },
  {
   "cell_type": "markdown",
   "id": "b0382c8a-90d8-4237-b57d-5938d20d1954",
   "metadata": {
    "deletable": false,
    "editable": false,
    "nbgrader": {
     "cell_type": "markdown",
     "checksum": "95e215001d2415abf27962562b774767",
     "grade": false,
     "grade_id": "cell-d8523707e07a94c7",
     "locked": true,
     "schema_version": 3,
     "solution": false,
     "task": false
    }
   },
   "source": [
    "# Polynomial Evaluation (5 pts)\n",
    "To Start off, recall from math class that a polynomial is a function that adds together scaled power of x. For instance\n",
    "$$\n",
    "f(x) = x + 1\n",
    "$$\n",
    "$$\n",
    "f(x) = x^2 - 10x + 5\n",
    "$$\n",
    "$$\n",
    "f(x) = x^{100} - 400x^{50}\n",
    "$$\n",
    "are all polynomials.\n",
    "\n",
    "We will represent the coefficients of a polynomial in a list with the highest degree coefficient at the last index of the list. For instance\n",
    "```python\n",
    "[1, 0, 2]\n",
    "```\n",
    "represents\n",
    "$$\n",
    "2 x^{2} + 0x + 1\n",
    "$$\n",
    "and \n",
    "```python\n",
    "[1, 2, 3, 4, 5]\n",
    "```\n",
    "represents\n",
    "$$\n",
    "5 x^{4} + 4x^3 + 3x^2+2x+1\n",
    "$$\n",
    "\n",
    "Implement the `poly_evaluate` function which takes in a number and list and outputs the polynomial evaluated at that number. For instance\n",
    "```python\n",
    ">>> poly_evaluate(2, [1, 0, 2])\n",
    "9\n",
    "```\n",
    "because\n",
    "$$\n",
    "2(2^2)+1=9\n",
    "$$"
   ]
  },
  {
   "cell_type": "code",
   "execution_count": null,
   "id": "52c59366-d2db-45aa-83e0-182927f0b612",
   "metadata": {
    "deletable": false,
    "nbgrader": {
     "cell_type": "code",
     "checksum": "ad4b29f807baff016b78cd8930a26b56",
     "grade": false,
     "grade_id": "cell-ddd9c6676fd382e1",
     "locked": false,
     "schema_version": 3,
     "solution": true,
     "task": false
    }
   },
   "outputs": [],
   "source": [
    "def poly_evaluate(x, coefficients):\n",
    "    \"\"\"\n",
    "    Evaluate a polynomial at a given value of x.\n",
    "\n",
    "    The polynomial is represented by a list of coefficients, where the last element \n",
    "    corresponds to the highest degree term. The function computes the value of the \n",
    "    polynomial by summing the scaled powers of x.\n",
    "\n",
    "    Args:\n",
    "        x (float): The value at which to evaluate the polynomial.\n",
    "        coefficients (list[float]): A list of coefficients representing the polynomial, \n",
    "            with the highest degree coefficient at the last index.\n",
    "\n",
    "    Returns:\n",
    "        float: The result of evaluating the polynomial at the given value of x.\n",
    "\n",
    "    Examples:\n",
    "        >>> poly_evaluate(2, [1, 0, 2])\n",
    "        9\n",
    "        >>> poly_evaluate(3, [1, 2, 3, 4])\n",
    "        142\n",
    "        >>> poly_evaluate(0, [5, -3, 2])\n",
    "        5\n",
    "    \"\"\"\n",
    "    # YOUR CODE HERE\n",
    "    raise NotImplementedError()\n"
   ]
  },
  {
   "cell_type": "code",
   "execution_count": null,
   "id": "8447b41b-db25-4b5c-bce1-493c15b451ea",
   "metadata": {
    "deletable": false,
    "editable": false,
    "nbgrader": {
     "cell_type": "code",
     "checksum": "6ceddb44270b6d791723b924f8a65f49",
     "grade": true,
     "grade_id": "cell-1edc12fb865aee19",
     "locked": true,
     "points": 5,
     "schema_version": 3,
     "solution": false,
     "task": false
    }
   },
   "outputs": [],
   "source": [
    "assert poly_evaluate(2, [1, 0, 2]) == 9\n",
    "assert poly_evaluate(3, [1, 2, 3, 4]) == 142\n",
    "assert poly_evaluate(0, [5, -3, 2]) == 5\n",
    "assert poly_evaluate(1000, []) == 0\n",
    "assert poly_evaluate(-10, [1, 0, -4.5, 1.2]) == -1649"
   ]
  },
  {
   "cell_type": "markdown",
   "id": "507884ee-1b3d-4e77-9ff2-4fde22b8af1a",
   "metadata": {
    "deletable": false,
    "editable": false,
    "nbgrader": {
     "cell_type": "markdown",
     "checksum": "7850022957cf309cb6adb320985f3c5c",
     "grade": false,
     "grade_id": "cell-390cc3027304d349",
     "locked": true,
     "schema_version": 3,
     "solution": false,
     "task": false
    }
   },
   "source": [
    "# Something went wrong\n",
    "The _cube root_ of a number, _n_, is defined to be the real number, such that when the number is cubed, it equals _n_.\n",
    "$$\n",
    "(\\sqrt[3]{n})^3 = n\n",
    "$$\n",
    "The function below is supposed to find a good approximation for the cube root of any given number, but something is going wrong. Can you find the error(s) in the code?"
   ]
  },
  {
   "cell_type": "code",
   "execution_count": null,
   "id": "80926deb-36e4-45da-852a-391d513595fc",
   "metadata": {
    "deletable": false,
    "nbgrader": {
     "cell_type": "code",
     "checksum": "81e11b0c13d8b62b57916fd5a809ed3a",
     "grade": false,
     "grade_id": "cell-135c917acfcba515",
     "locked": false,
     "schema_version": 3,
     "solution": true,
     "task": false
    }
   },
   "outputs": [],
   "source": [
    "# YOUR CODE HERE\n",
    "raise NotImplementedError()"
   ]
  },
  {
   "cell_type": "code",
   "execution_count": null,
   "id": "7e1d599c-5c78-42b6-b524-826c4a4fb000",
   "metadata": {
    "deletable": false,
    "editable": false,
    "nbgrader": {
     "cell_type": "code",
     "checksum": "88b112fd1f4ea41104c52fb88a27d389",
     "grade": true,
     "grade_id": "cell-79f019e1c25169eb",
     "locked": true,
     "points": 5,
     "schema_version": 3,
     "solution": false,
     "task": false
    }
   },
   "outputs": [],
   "source": [
    "from math import pow\n",
    "\n",
    "assert abs(cube_root(0) - pow(0, 1/3)) < 0.001\n",
    "assert abs(cube_root(1) - pow(1, 1/3)) < 0.001\n",
    "assert abs(cube_root(-1) + pow(1, 1/3)) < 0.001\n",
    "assert abs(cube_root(2) - pow(2, 1/3)) < 0.001\n",
    "assert abs(cube_root(-2) + pow(2, 1/3)) < 0.001\n",
    "assert abs(cube_root(100) - pow(100, 1/3)) < 0.001"
   ]
  }
 ],
 "metadata": {
  "kernelspec": {
   "display_name": "Python 3 (ipykernel)",
   "language": "python",
   "name": "python3"
  },
  "language_info": {
   "codemirror_mode": {
    "name": "ipython",
    "version": 3
   },
   "file_extension": ".py",
   "mimetype": "text/x-python",
   "name": "python",
   "nbconvert_exporter": "python",
   "pygments_lexer": "ipython3",
   "version": "3.12.3"
  }
 },
 "nbformat": 4,
 "nbformat_minor": 5
}
