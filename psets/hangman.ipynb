{
 "cells": [
  {
   "cell_type": "markdown",
   "id": "b72f767e",
   "metadata": {},
   "source": [
    "Before you turn this problem in, make sure everything runs as expected. First, **restart the kernel** (in the menubar, select Kernel $\\rightarrow$ Restart) and then **run all cells** (in the menubar, select Cell $\\rightarrow$ Run All).\n",
    "\n",
    "Make sure you fill in any place that says `YOUR CODE HERE` or \"YOUR ANSWER HERE\"."
   ]
  },
  {
   "cell_type": "markdown",
   "id": "32dab3da",
   "metadata": {},
   "source": [
    "---"
   ]
  },
  {
   "cell_type": "markdown",
   "id": "0a96a09c-2ecf-4ddd-8317-5526bc63db86",
   "metadata": {
    "deletable": false,
    "editable": false,
    "nbgrader": {
     "cell_type": "markdown",
     "checksum": "66a59b7c71421a9167dc6504eff75a56",
     "grade": false,
     "grade_id": "cell-699d7e5ba6d31381",
     "locked": true,
     "schema_version": 3,
     "solution": false,
     "task": false
    }
   },
   "source": [
    "# Better Filtering for User Input\n",
    "Refactor the get_user_guess() function to improve its input validation based on the following requirements:\n",
    "\n",
    "1. Validate Alphabet Characters Only:\n",
    "The function should prompt the user to enter a new guess if the input is not a single letter in the English alphabet (e.g., reject characters like '1', '@', '/', or '{').\n",
    "\n",
    "2. Case Insensitivity:\n",
    "The function should treat uppercase and lowercase letters equally. For example, if the user inputs 'A', the function should return 'a'.\n",
    "\n",
    "3. Single Character Input:\n",
    "The function should prompt the user to re-enter their guess if the input is more than one character.\n",
    "\n",
    "To do these things you may want to check out some of the [builtin python string methods](https://www.w3schools.com/python/python_ref_string.asp)."
   ]
  },
  {
   "cell_type": "code",
   "execution_count": null,
   "id": "136b3be5-5fd1-4fd0-ba61-91ba61f9e555",
   "metadata": {
    "deletable": false,
    "nbgrader": {
     "cell_type": "code",
     "checksum": "de3dec3d28d31a08ea747667ae0b3051",
     "grade": false,
     "grade_id": "cell-abbe0e5be4edf89d",
     "locked": false,
     "schema_version": 3,
     "solution": true,
     "task": false
    }
   },
   "outputs": [],
   "source": [
    "def get_user_guess():\n",
    "    \"\"\"\n",
    "    A function to return a valid guess from the user\n",
    "    args:\n",
    "        none\n",
    "    return:\n",
    "        user_input (str): the valid guess from the user\n",
    "    \"\"\"\n",
    "    def is_valid_input(user_input):\n",
    "        \"\"\"\n",
    "        A function to check if the provided input is valid\n",
    "        args:\n",
    "            user_input (str): the string from the user input\n",
    "        return:\n",
    "            Boolean (bool) for if the input was valid or not\n",
    "        \"\"\"\n",
    "        # Only accept single characters\n",
    "        if len(user_input) == 1:\n",
    "            return True\n",
    "        return False\n",
    "\n",
    "    user_input = \"\"\n",
    "\n",
    "    while True:\n",
    "        user_input = input(\"Please guess a letter: \")\n",
    "        if is_valid_input(user_input):\n",
    "            break\n",
    "        print(\"Please guess one letter at a time!\")\n",
    "\n",
    "    return user_input"
   ]
  },
  {
   "cell_type": "markdown",
   "id": "c10ece68-1f3e-4dc8-8f7a-c8fb5751e445",
   "metadata": {
    "deletable": false,
    "editable": false,
    "nbgrader": {
     "cell_type": "markdown",
     "checksum": "3711dd54feb313272e1dd1e6357b1f10",
     "grade": false,
     "grade_id": "cell-97e49bc7b6dfeba2",
     "locked": true,
     "schema_version": 3,
     "solution": false,
     "task": false
    }
   },
   "source": [
    "# Determining if a guess is correct or not\n",
    "A guess is considered correct if the letter guessed is in the word. Implement the function below to return either True or False depending on if the guess was correct or not. "
   ]
  },
  {
   "cell_type": "code",
   "execution_count": null,
   "id": "14c8f5b8-fb56-465a-b203-16f2975f005b",
   "metadata": {
    "deletable": false,
    "nbgrader": {
     "cell_type": "code",
     "checksum": "2b4968ada4f75213aa005d66c83d6ff6",
     "grade": false,
     "grade_id": "cell-023f20930bef0122",
     "locked": false,
     "schema_version": 3,
     "solution": true,
     "task": false
    }
   },
   "outputs": [],
   "source": [
    "def is_guess_correct(guess, word):\n",
    "    \"\"\"\n",
    "    A function to check if a guess is correct\n",
    "    args:\n",
    "        guess (str): the user guess\n",
    "        word (str): the game word\n",
    "    returns:\n",
    "        (bool): True or False depending on if the guess was correct\n",
    "    \"\"\"\n",
    "    # YOUR CODE HERE\n",
    "    raise NotImplementedError()"
   ]
  },
  {
   "cell_type": "markdown",
   "id": "aaa2204e-136d-45ec-b97d-aff30e37cdbb",
   "metadata": {
    "deletable": false,
    "editable": false,
    "nbgrader": {
     "cell_type": "markdown",
     "checksum": "6947660da0838cdf87e1134abc3aa8c5",
     "grade": false,
     "grade_id": "cell-d27f3321c1a764ec",
     "locked": true,
     "schema_version": 3,
     "solution": false,
     "task": false
    }
   },
   "source": [
    "# Determining the Win State\n",
    "In our game, determining a loss is straightforward—it's when lives reaches 0. However, determining a win is a bit more challenging. To win, the player must correctly guess every letter in the word.\n",
    "\n",
    "Since we are already keeping track of the correct guesses, your task is to create a function called is_game_won() that determines whether the game has been won. This function should return True if all the letters in the target word have been guessed, and False otherwise."
   ]
  },
  {
   "cell_type": "code",
   "execution_count": null,
   "id": "c2526ac7-3de6-4845-9739-775c0609d385",
   "metadata": {
    "deletable": false,
    "nbgrader": {
     "cell_type": "code",
     "checksum": "749f63f0adc1b8093aa7b006c1a6eb2e",
     "grade": false,
     "grade_id": "cell-e2cfc846fb98af7a",
     "locked": false,
     "schema_version": 3,
     "solution": true,
     "task": false
    }
   },
   "outputs": [],
   "source": [
    "def is_game_won(word, correct_user_guesses):\n",
    "    \"\"\"\n",
    "    Determines if the game has been won by checking if all letters in the word \n",
    "    have been correctly guessed by the user.\n",
    "\n",
    "    Args:\n",
    "        word (str): The target word that the user is trying to guess.\n",
    "        correct_user_guesses (list): A list of letters correctly guessed by the user.\n",
    "\n",
    "    Returns:\n",
    "        bool: True if all letters in the word are in the list of correct guesses, \n",
    "              False otherwise.\n",
    "    \"\"\"\n",
    "    # YOUR CODE HERE\n",
    "    raise NotImplementedError()"
   ]
  },
  {
   "cell_type": "markdown",
   "id": "a87266bf-8779-4f52-aaea-1c9cb3106f9a",
   "metadata": {
    "deletable": false,
    "editable": false,
    "nbgrader": {
     "cell_type": "markdown",
     "checksum": "1f9c8974f97f537cfe410d0884f57145",
     "grade": false,
     "grade_id": "cell-096803b5eb9f2a99",
     "locked": true,
     "schema_version": 3,
     "solution": false,
     "task": false
    }
   },
   "source": [
    "# Displaying our word\n",
    "Hangman relies on the user being able to see where their guessed letters are in the word. We can make a function to display the current progress given word and correct_user_guesses. This function should not return anything and just print to the terminal. Implement this function.\n",
    "\n",
    "Example output:\n",
    "```python\n",
    ">>> display_hangman_word(\"cat\", [\"c\"]):\n",
    "c _ _\n",
    ">>> display_hangman_word(\"cat\", [\"c\", \"t\"]):\n",
    "c _ t\n",
    ">>> display_hangman_word(\"cat\", [\"c\", \"t\", \"a\"]):\n",
    "c a t\n",
    ">>> display_hangman_word(\"python\", []):\n",
    "_ _ _ _ _ _\n",
    ">>> display_hangman_word(\"python\", [\"h\", \"y\", \"o\"]):\n",
    "_ y _ h o _\n",
    "```"
   ]
  },
  {
   "cell_type": "code",
   "execution_count": null,
   "id": "59254e4a-e994-4170-9b3c-ac30092617de",
   "metadata": {
    "deletable": false,
    "nbgrader": {
     "cell_type": "code",
     "checksum": "b83b4a1fc0dcd4054f33b099c4219ad9",
     "grade": false,
     "grade_id": "cell-92ccc8919028934e",
     "locked": false,
     "schema_version": 3,
     "solution": true,
     "task": false
    }
   },
   "outputs": [],
   "source": [
    "def display_hangman_word(word, correct_user_guesses):\n",
    "    \"\"\"\n",
    "    Displays the current progress of the word in the Hangman game. \n",
    "    For each letter in the word, display the letter if it has been guessed correctly; \n",
    "    otherwise, display an underscore ('_') for unguessed letters. The result is printed\n",
    "    to the terminal, with letters and underscores separated by spaces.\n",
    "\n",
    "    Args:\n",
    "        word (str): The target word that the user is trying to guess.\n",
    "        correct_user_guesses (list): A list of letters that the user has guessed correctly.\n",
    "\n",
    "    Returns:\n",
    "        None: This function does not return anything. It directly prints the current \n",
    "              progress of the word to the terminal.\n",
    "    \"\"\"\n",
    "    # YOUR CODE HERE\n",
    "    raise NotImplementedError()\n"
   ]
  },
  {
   "cell_type": "markdown",
   "id": "3567f78d-74c9-461c-b42d-3293b89801c4",
   "metadata": {
    "deletable": false,
    "editable": false,
    "nbgrader": {
     "cell_type": "markdown",
     "checksum": "f48d43dd2c5a18d1cdd025c629f40e3a",
     "grade": false,
     "grade_id": "cell-e27ae8bcaf9b66e4",
     "locked": true,
     "schema_version": 3,
     "solution": false,
     "task": false
    }
   },
   "source": [
    "# Play the game!\n",
    "## Make sure words.txt is in the same directory as hangman.ipynb"
   ]
  },
  {
   "cell_type": "code",
   "execution_count": null,
   "id": "aecb8a39-9687-4a99-8a02-f82e4533334e",
   "metadata": {
    "deletable": false,
    "editable": false,
    "nbgrader": {
     "cell_type": "code",
     "checksum": "abd0919add7654df7ac089c69cdcceff",
     "grade": false,
     "grade_id": "cell-7829e814cd041461",
     "locked": true,
     "schema_version": 3,
     "solution": false,
     "task": false
    }
   },
   "outputs": [],
   "source": [
    "import random\n",
    "\n",
    "def get_random_word(file_path):\n",
    "    \"\"\"\n",
    "    Get a random word form \n",
    "    args:\n",
    "        file_path (str): relative or absolute file path to words.txt\n",
    "    returns:\n",
    "        word (str): a random word from words.txt\n",
    "    \"\"\"\n",
    "    try:\n",
    "        # Open our file in python and store it in f. type(f) = <class '_io.TextIOWrapper'>\n",
    "        words_file = open(file_path, \"r\")\n",
    "        # Convert the text file to list; words_list = [\"able\\n\" \"about\\n\" \"account\\n\", ...]\n",
    "        words_list = list(words_file)\n",
    "        # Use random.choice to choose a random word from our words_list\n",
    "        word =  random.choice(words_list)\n",
    "        # Get rid of the \"\\n\" character at the end of each word\n",
    "        word = word.strip(\"\\n\")\n",
    "        # Close the \n",
    "        words_file.close()\n",
    "        # return our word\n",
    "        return word\n",
    "    except:\n",
    "        return random.choice([\"dog\", \"cat\", \"rat\", \"python\"]) # safty word bank to choose from if you cannot read words.txt\n",
    "\n",
    "word = get_random_word(\"./words.txt\")\n",
    "\n",
    "correct_user_guesses = [] # Start with no correct guesses\n",
    "incorrect_user_guesses = [] # Start with no incorrect guesses\n",
    "lives = 5 # Changing this changes the difficulty of the game\n",
    "\n",
    "print(\"Shhh, the word is: \" + word) # For debugging; comment this when you want to play\n",
    "\n",
    "while lives > 0 and not is_game_won(word, correct_user_guesses):\n",
    "    display_hangman_word(word, correct_user_guesses)\n",
    "    print(\"Lives: \", lives)\n",
    "    user_guess = get_user_guess()\n",
    "\n",
    "    if is_guess_correct(user_guess, word):\n",
    "        print(\"Correct Guess!\")\n",
    "        if user_guess not in correct_user_guesses: # avoid duplicate guesses\n",
    "            correct_user_guesses.append(user_guess)\n",
    "        else:\n",
    "            print(\"You have guessed that before.\")\n",
    "    else:\n",
    "        print(\"Incorrect Guess!\")\n",
    "        if user_guess not in incorrect_user_guesses:\n",
    "            incorrect_user_guesses.append(user_guess)\n",
    "            lives -= 1\n",
    "        else:\n",
    "            print(\"You have guessed that before\")\n",
    "    \n",
    "    print(\"\\n\\n\")\n",
    "\n",
    "if is_game_won(word, correct_user_guesses):\n",
    "    print(\"You Win. The word was\", word)\n",
    "else:\n",
    "    print(\"You Lose. The word was\", word)"
   ]
  }
 ],
 "metadata": {
  "kernelspec": {
   "display_name": "Python 3 (ipykernel)",
   "language": "python",
   "name": "python3"
  },
  "language_info": {
   "codemirror_mode": {
    "name": "ipython",
    "version": 3
   },
   "file_extension": ".py",
   "mimetype": "text/x-python",
   "name": "python",
   "nbconvert_exporter": "python",
   "pygments_lexer": "ipython3",
   "version": "3.12.3"
  }
 },
 "nbformat": 4,
 "nbformat_minor": 5
}
